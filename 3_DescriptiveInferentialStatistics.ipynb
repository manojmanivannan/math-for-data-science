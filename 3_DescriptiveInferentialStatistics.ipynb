{
 "cells": [
  {
   "attachments": {},
   "cell_type": "markdown",
   "metadata": {},
   "source": [
    "## Descriptive statistics & Inferential statistics\n",
    "\n",
    "\n",
    "calculating mean, median, mode, charts, bell curves, and other tools to describe data. This is the most commonly understood part of statistics, called descriptive statistics, and we use it to summarize data.\n",
    "\n",
    "Inferential statistics tries to uncover attributes about a larger population, often based on a sample."
   ]
  },
  {
   "cell_type": "code",
   "execution_count": 1,
   "metadata": {},
   "outputs": [
    {
     "name": "stdout",
     "output_type": "stream",
     "text": [
      "[0, 1, 5, 7, 9, 10, 14]\n",
      "7\n",
      "[0, 1, 5, 7, 9, 10, 14, 25000]\n",
      "8.0\n"
     ]
    }
   ],
   "source": [
    "# Number of pets each person owns\n",
    "sample = [0, 1, 5, 7, 9, 10, 14]\n",
    "\n",
    "def median(values):\n",
    "    ordered = sorted(values)\n",
    "    print(ordered)\n",
    "    n = len(ordered)\n",
    "    mid = int(n / 2) - 1 if n % 2 == 0 else int(n/2)\n",
    "    if n % 2 == 0:\n",
    "        return (ordered[mid] + ordered[mid+1]) / 2.0\n",
    "    else:\n",
    "        return ordered[mid]\n",
    "print(median(sample))\n",
    "print(median(sample+[25000]))\n",
    "# The median can be a helpful alternative to the mean when data is skewed by outliers,\n",
    "# or values that are extremely large and small compared to the rest of the values\n"
   ]
  },
  {
   "attachments": {},
   "cell_type": "markdown",
   "metadata": {},
   "source": [
    "Median is less sensitive to outliers and cuts data strictly down the middle based on their relative order, rather than where they fall exactly on a number line. When your median is very different from your mean, that means you have a skewed dataset with outliers.\n",
    "### The Median Is a Quantile\n",
    "There is a concept of quantiles in descriptive statistics. The concept of quantiles is essentially the same as a median, just cutting the data in other places besides the middle. The median is actually the 50% quantile, or the value where 50% of ordered values are behind it. Then there are the 25%, 50%, and 75% quantiles, which are known as quartiles because they cut data in 25% increments."
   ]
  },
  {
   "cell_type": "code",
   "execution_count": 2,
   "metadata": {},
   "outputs": [
    {
     "name": "stdout",
     "output_type": "stream",
     "text": [
      "[2, 3]\n"
     ]
    }
   ],
   "source": [
    "# Number of pets each person owns\n",
    "from collections import defaultdict\n",
    "sample = [1, 3, 2, 5, 7, 0, 2, 3]\n",
    "\n",
    "def mode(values):\n",
    "    counts = defaultdict(lambda: 0)\n",
    "    for s in values:\n",
    "        counts[s] += 1\n",
    "    max_count = max(counts.values())\n",
    "    modes = [v for v in set(values) if counts[v] == max_count]\n",
    "    return modes\n",
    "\n",
    "print(mode(sample)) # bimodal"
   ]
  },
  {
   "attachments": {},
   "cell_type": "markdown",
   "metadata": {},
   "source": [
    "## Population Variance and Standard Deviation\n",
    "\n",
    "let's say we have the data of number of pets owned by 7 people\n",
    "\n",
    "|Value|Mean|Difference|\n",
    "|-----|-----|----------|\n",
    "|0|6.571|-6.571|\n",
    "|1|6.571|-5.571|\n",
    "|5|6.571|-1.571|\n",
    "|7|6.571|0.429|\n",
    "|9|6.571|2.429|\n",
    "|10|6.571|3.429|\n",
    "|14|6.571|7.429|\n",
    "\n",
    "![Spread of data](images/Statistics_spread.png)"
   ]
  },
  {
   "attachments": {},
   "cell_type": "markdown",
   "metadata": {},
   "source": [
    "We could take the average of the differences, but they would sum up to 0. we could sum the absolute values. and a better approach is to square the values and then sum them up. this will amplify the larger differences. THen we average them.\n",
    "This is called as *Variance* $\\sigma^2$, a measure of how spread out the data is."
   ]
  },
  {
   "attachments": {},
   "cell_type": "markdown",
   "metadata": {},
   "source": [
    "\\begin{split}\n",
    "\\sigma^2 = \\frac {\\sum{(x_{i}-\\mu)^2}} {N}\n",
    "\\end{split}"
   ]
  },
  {
   "cell_type": "code",
   "execution_count": 3,
   "metadata": {},
   "outputs": [
    {
     "name": "stdout",
     "output_type": "stream",
     "text": [
      "21.387755102040813\n"
     ]
    }
   ],
   "source": [
    "# Number of pets each person owns\n",
    "data = [0, 1, 5, 7, 9, 10, 14]\n",
    "\n",
    "def variance(values):\n",
    "    mean = sum(values) / len(values)\n",
    "    _variance = sum((v - mean) ** 2 for v in values) / len(values)\n",
    "    return _variance\n",
    "\n",
    "print(variance(data))\n"
   ]
  },
  {
   "attachments": {},
   "cell_type": "markdown",
   "metadata": {},
   "source": [
    "OK ! , But what is this 21.38.. and how does it relate to our data. since we did a lot of squaring and summing, lets take the square root of it\n",
    "\n",
    "\\begin{split}\n",
    "\\sigma = \\sqrt{\\frac {\\sum{(x_{i}-\\mu)^2}} {N}}\n",
    "\\end{split}\n"
   ]
  },
  {
   "cell_type": "code",
   "execution_count": 4,
   "metadata": {},
   "outputs": [
    {
     "name": "stdout",
     "output_type": "stream",
     "text": [
      "4.62 pets\n"
     ]
    }
   ],
   "source": [
    "from math import sqrt\n",
    "# Number of pets each person owns\n",
    "data = [0, 1, 5, 7, 9, 10, 14]\n",
    "\n",
    "def variance(values):\n",
    "    mean = sum(values) / len(values)\n",
    "    _variance = sum((v - mean) ** 2 for v in values) / len(values)\n",
    "    return _variance\n",
    "\n",
    "def std_dev(values):\n",
    "    return sqrt(variance(values))\n",
    "\n",
    "print(f'{std_dev(data):.2f} pets')"
   ]
  },
  {
   "attachments": {},
   "cell_type": "markdown",
   "metadata": {},
   "source": [
    "## Sample Variance and Standard Deviation\n",
    "\n",
    "\\begin{split}\n",
    "s^2 = \\frac {\\sum{(x_{i}-\\overline{x})^2}} {n-1}\\\\\n",
    "\n",
    "s = \\sqrt{\\frac {\\sum{(x_{i}-\\overline{x})^2}} {n-1}}\n",
    "\\end{split}\n"
   ]
  },
  {
   "attachments": {},
   "cell_type": "markdown",
   "metadata": {},
   "source": [
    "Did you catch the difference? When we average the squared differences, we divide by $n–1$ rather than the total number of items n. Why would we do this? We do this to decrease any bias in a sample and not underestimate the variance of the population based on our sample. By counting values short of one item in our divisor, we increase the variance and therefore capture greater uncertainty in our sample"
   ]
  },
  {
   "cell_type": "code",
   "execution_count": 5,
   "metadata": {},
   "outputs": [
    {
     "name": "stdout",
     "output_type": "stream",
     "text": [
      "VARIANCE sample= 24.95238095238095\n",
      "STD DEV  sample= 4.99523582550223\n",
      "VARIANCE population = 21.387755102040813\n",
      "STD DEV  population = 4.624689730353898\n"
     ]
    }
   ],
   "source": [
    "from math import sqrt\n",
    "# Number of pets each person owns\n",
    "data = [0, 1, 5, 7, 9, 10, 14]\n",
    "def variance(values, is_sample: bool = False):\n",
    "    mean = sum(values) / len(values)\n",
    "    _variance = sum((v - mean) ** 2 for v in values) / (len(values) - (1 if is_sample else 0))\n",
    "    return _variance\n",
    "\n",
    "def std_dev(values, is_sample: bool = False):\n",
    "    return sqrt(variance(values, is_sample))\n",
    "\n",
    "print(\"VARIANCE sample= {}\".format(variance(data, is_sample=True))) \n",
    "print(\"STD DEV  sample= {}\".format(std_dev(data, is_sample=True))) \n",
    "print(\"VARIANCE population = {}\".format(variance(data, is_sample=False))) \n",
    "print(\"STD DEV  population = {}\".format(std_dev(data, is_sample=False))) "
   ]
  },
  {
   "attachments": {},
   "cell_type": "markdown",
   "metadata": {},
   "source": [
    "## Normal Distribution\n",
    "\n",
    "The normal distribution, also known as the Gaussian distribution, is a symmetrical bell-shaped distribution that has most mass around the mean, and its spread is defined as a standard deviation. The “tails” on either side become\n",
    "thinner as you move away from the mean"
   ]
  },
  {
   "attachments": {},
   "cell_type": "markdown",
   "metadata": {},
   "source": [
    "#### Properties of a Normal Distribution\n",
    "The normal distribution has several important properties that make it useful:\n",
    "- It’s symmetrical; both sides are identically mirrored at the mean, which is the\n",
    "center.\n",
    "- Most mass is at the center around the mean.\n",
    "- It has a spread (being narrow or wide) that is specified by standard deviation.\n",
    "- The “tails” are the least likely outcomes and approach zero infinitely but never\n",
    "touch zero.\n",
    "- It resembles a lot of phenomena in nature and daily life, and even generalizes\n",
    "nonnormal problems because of the central limit theorem, which we will talk\n",
    "about shortly."
   ]
  },
  {
   "attachments": {},
   "cell_type": "markdown",
   "metadata": {},
   "source": [
    "##### Probability Density Function (PDF)\n",
    "\n",
    "\\begin{split}\n",
    "f\\left( x \\right) = \\frac {1}{\\sigma} * \\sqrt{2\\pi} \\ * e^{-\\frac{1}{2}\\left( \\frac{x-\\mu^2}{\\sigma} \\right)}\n",
    "\\end{split}"
   ]
  },
  {
   "cell_type": "code",
   "execution_count": 6,
   "metadata": {},
   "outputs": [],
   "source": [
    "from math import exp,pi\n",
    "\n",
    "# normal distribution, returns likelihood\n",
    "def normal_pdf(x: float, mean: float, std_dev: float) -> float:\n",
    "    return (1.0 / (2.0 * pi * std_dev ** 2) ** 0.5) *\\\n",
    "        exp(-1.0 * ((x - mean) ** 2 / (2.0 * std_dev ** 2)))"
   ]
  },
  {
   "attachments": {},
   "cell_type": "markdown",
   "metadata": {},
   "source": [
    "normal distribution, the vertical axis is not the probability but rather the\n",
    "likelihood for the data. The normal distribution is continuous. This means to retrieve a probability we need to integrate a range of x values to find an area."
   ]
  },
  {
   "attachments": {},
   "cell_type": "markdown",
   "metadata": {},
   "source": [
    "#### Cumulative Distribution Function (CDF)\n",
    "\n",
    "With the normal distribution, the vertical axis is not the probability but rather the likelihood for the data. To find the probability we need to look at a given range, and then find the area under the curve for that range\n",
    "\n",
    "![CDF vs PDF](images/StatisticsCDFvsPDF.png)\n",
    "\n",
    "The CDF, which is an S-shaped curve (called a sigmoid curve), projects the area up to that range in the PDF. Observe in image that when we capture the area from negative infinity up to 64.43 (the mean), our CDF shows a value of exactly .5 or 50%!"
   ]
  },
  {
   "cell_type": "code",
   "execution_count": 7,
   "metadata": {},
   "outputs": [
    {
     "name": "stdout",
     "output_type": "stream",
     "text": [
      "0.5\n"
     ]
    }
   ],
   "source": [
    "from scipy.stats import norm\n",
    "mean = 64.43\n",
    "std_dev = 2.99\n",
    "x = norm.cdf(64.43, mean, std_dev)\n",
    "print(x)"
   ]
  },
  {
   "cell_type": "code",
   "execution_count": 8,
   "metadata": {},
   "outputs": [
    {
     "name": "stdout",
     "output_type": "stream",
     "text": [
      "0.4920450147062894\n"
     ]
    }
   ],
   "source": [
    "from scipy.stats import norm\n",
    "mean = 64.43\n",
    "std_dev = 2.99\n",
    "x = norm.cdf(66, mean, std_dev) - norm.cdf(62, mean, std_dev)\n",
    "print(x) \n",
    "\n",
    "# You should find the probability of observing a values between 62 and 66\n",
    "# to be 0.4920, or approximately 49.2%."
   ]
  },
  {
   "attachments": {},
   "cell_type": "markdown",
   "metadata": {},
   "source": [
    "#### Inverse CDF\n",
    "When we start doing hypothesis testing later in this chapter, we will encounter\n",
    "situations where we need to look up an area on the CDF and then return the\n",
    "corresponding x-value. Of course this is a backward usage of the CDF, so we will need to use the inverse CDF"
   ]
  },
  {
   "attachments": {},
   "cell_type": "markdown",
   "metadata": {},
   "source": [
    "![Inverse CDF](images/Statistics_inverseCDF.png)"
   ]
  },
  {
   "cell_type": "code",
   "execution_count": 9,
   "metadata": {},
   "outputs": [
    {
     "name": "stdout",
     "output_type": "stream",
     "text": [
      "69.3481123445849\n"
     ]
    }
   ],
   "source": [
    "from scipy.stats import norm\n",
    "mean = 64.43\n",
    "std_dev = 2.99\n",
    "x = norm.ppf(.95, loc=mean, scale=std_dev)\n",
    "print(x)"
   ]
  },
  {
   "attachments": {},
   "cell_type": "markdown",
   "metadata": {},
   "source": [
    "You can also use the inverse CDF to generate random numbers that follow the\n",
    "normal distribution."
   ]
  },
  {
   "cell_type": "code",
   "execution_count": 10,
   "metadata": {},
   "outputs": [
    {
     "name": "stdout",
     "output_type": "stream",
     "text": [
      "63.490177956916305\n",
      "64.1953478493131\n",
      "61.666000005811576\n",
      "62.27535339721622\n",
      "64.25804584209453\n",
      "65.1078709068818\n",
      "66.07803674522901\n",
      "63.55057922936345\n",
      "66.97806672574868\n",
      "63.825559151205596\n"
     ]
    }
   ],
   "source": [
    "import random\n",
    "from scipy.stats import norm\n",
    "for i in range(0,10):\n",
    "    random_p = random.uniform(0.0, 1.0)\n",
    "    random_weight = norm.ppf(random_p, loc=64.43, scale=2.99)\n",
    "    print(random_weight)"
   ]
  },
  {
   "attachments": {},
   "cell_type": "markdown",
   "metadata": {},
   "source": [
    "#### Z-Score"
   ]
  },
  {
   "attachments": {},
   "cell_type": "markdown",
   "metadata": {},
   "source": [
    "It is common to rescale a normal distribution so that the mean is 0 and the standard deviation is 1, which is known as the standard normal distribution. This makes it easy to compare the spread of one normal distribution to another normal distribution, even if they have different means and variances.\n",
    "\n",
    "Of particular importance with the standard normal distribution is it expresses all\n",
    "x-values in terms of standard deviations, known as Z-scores. Turning an x-value into a Z-score uses a basic scaling formula:\n",
    "\n",
    "\\begin{split}\n",
    "z = \\frac{x - \\mu}{\\sigma}\n",
    "\\end{split}"
   ]
  },
  {
   "attachments": {},
   "cell_type": "markdown",
   "metadata": {},
   "source": [
    "Here is an example. We have two homes from two different neighborhoods. Neigh‐\n",
    "borhood A has a mean home value of $140,000 and standard deviation of $3,000.\n",
    "Neighborhood B has a mean home value of $800,000 and standard deviation of\n",
    "$10,000.\n",
    "\\begin{split}\n",
    "\\mu_{A} = 140,000\\\\\n",
    "\\mu_{B} = 800,000\\\\\n",
    "\\sigma_{A} = 3,000\\\\\n",
    "\\sigma_{B} = 10,000\\\\\n",
    "\\end{split}\n",
    "Now we have two homes from each neighborhood. House A from neighborhood A is\n",
    "worth $150,000 and house B from neighborhood B is worth $815,000. Which home is\n",
    "more expensive relative to the average home in its neighborhood?\n",
    "\\begin{split}\n",
    "x_{A} = 150,000\\\\\n",
    "x_{B} = 815,000\\\\\n",
    "\\end{split}\n",
    "If we express these two values in terms of standard deviations, we can compare them\n",
    "relative to each neighborhood mean. Use the Z-score formula\n",
    "\\begin{gather*}\n",
    "z=\\frac{x - mean}{std}\\\\\n",
    "z_{A}=\\frac{150000-140000}{3000} = 3.333\\\\\n",
    "z_{B}=\\frac{815000-800000}{10000} = 1.5\\\\\n",
    "\\end{gather*}\n"
   ]
  },
  {
   "cell_type": "code",
   "execution_count": 11,
   "metadata": {},
   "outputs": [
    {
     "name": "stdout",
     "output_type": "stream",
     "text": [
      "Z-Score: 3.3333333333333335\n",
      "Back to X: 150000.0\n"
     ]
    }
   ],
   "source": [
    "#Turn Z-scores into x-values and vice versa\n",
    "def z_score(x, mean, std):\n",
    "    return (x - mean) / std\n",
    "\n",
    "def z_to_x(z, mean, std):\n",
    "    return (z * std) + mean\n",
    "\n",
    "mean = 140000\n",
    "std_dev = 3000\n",
    "x = 150000\n",
    "\n",
    "# Convert to Z-score and then back to X\n",
    "z = z_score(x, mean, std_dev)\n",
    "back_to_x = z_to_x(z, mean, std_dev)\n",
    "\n",
    "print(\"Z-Score: {}\".format(z)) # Z-Score: 3.333\n",
    "print(\"Back to X: {}\".format(back_to_x)) # Back to X: 150000.0"
   ]
  },
  {
   "attachments": {},
   "cell_type": "markdown",
   "metadata": {},
   "source": [
    "#### Coefficient of Variation\n",
    "\n",
    "A helpful tool for measuring spread is the coefficient of variation. It compares two distributions and quantifies how spread out each of them is. It is simple to calculate: divide the standard deviation by the mean. Here is the formula alongside the example comparing two neighborhoods\n",
    "\n",
    "\\begin{gather*}\n",
    "cv=\\frac{\\sigma}{\\mu}\\\\\n",
    "cv_{A}=\\frac{3000}{140000}=0.0214\\\\\n",
    "cv_{B}=\\frac{10000}{800000}=0.0125\n",
    "\\end{gather*}\n",
    "\n",
    "As seen here, neighborhood A, while cheaper than neighborhood B, has more spread\n",
    "and therefore more price diversity than neighborhood B."
   ]
  },
  {
   "attachments": {},
   "cell_type": "markdown",
   "metadata": {},
   "source": [
    "### Inferential Statistics\n",
    "#### The Central Limit Theorem\n",
    "\n",
    "Let’s pretend I am measuring a population that is truly and uniformly random. Any\n",
    "value between 0.0 and 1.0 is equally likely, and no value has any preference. But\n",
    "something fascinating happens when we take increasingly large samples from this population, take the average of each, and then plot them into a histogram.\n",
    "\n"
   ]
  },
  {
   "cell_type": "code",
   "execution_count": 27,
   "metadata": {},
   "outputs": [
    {
     "data": {
      "image/png": "[encoded data removed]"
     },
     "metadata": {},
     "output_type": "display_data"
    }
   ],
   "source": [
    "import random\n",
    "import plotly.express as px\n",
    "sample_size = 31\n",
    "sample_count = 1000\n",
    "# Central limit theorem, 1000 samples each with 31\n",
    "# random numbers between 0.0 and 1.0\n",
    "x_values = [(sum([random.uniform(0.0, 1.0) for i in range(sample_size)]) / \\\n",
    "sample_size) for _ in range(sample_count)]\n",
    "\n",
    "y_values = [1 for _ in range(sample_count)]\n",
    "\n",
    "px.histogram(x=x_values, y = y_values, nbins=20).show(\"png\")"
   ]
  },
  {
   "attachments": {},
   "cell_type": "markdown",
   "metadata": {},
   "source": [
    "how did we end up a normal distribution when we started from sum of small 31 item groups from a uniform distribution ?\n",
    "\n",
    "This is because of the central limit theorem, which states that interesting things\n",
    "happen when we take large enough samples of a population, calculate the mean of\n",
    "each, and plot them as a distribution:\n",
    "1. The mean of the sample means is equal to the population mean.\n",
    "2. If the population is normal, then the sample means will be normal.\n",
    "3. If the population is not normal, but the sample size is greater than 30, the sample\n",
    "means will still roughly form a normal distribution.\n",
    "4. The standard deviation of the sample means equals the population standard\n",
    "deviation divided by the square root of n:\n",
    "\n",
    "\\begin{split}\n",
    "sample\\ standard\\ deviation = \\frac{population\\ standard\\ deviation}{\\sqrt{sample\\ size}}\n",
    "\\end{split}"
   ]
  },
  {
   "cell_type": "code",
   "execution_count": 26,
   "metadata": {},
   "outputs": [
    {
     "data": {
      "image/svg+xml": "<svg class=\"main-svg\" xmlns=\"http://www.w3.org/2000/svg\" xmlns:xlink=\"http://www.w3.org/1999/xlink\" width=\"700\" height=\"500\" style=\"\" viewBox=\"0 0 700 500\"><rect x=\"0\" y=\"0\" width=\"700\" height=\"500\" style=\"fill: rgb(255, 255, 255); fill-opacity: 1;\"/><defs id=\"defs-0f2b56\"><g class=\"clips\"><clipPath id=\"clip0f2b56xyplot\" class=\"plotclip\"><rect width=\"514\" height=\"71.11111111111111\"/></clipPath><clipPath id=\"clip0f2b56x2y2plot\" class=\"plotclip\"><rect width=\"514\" height=\"71.11111111111113\"/></clipPath><clipPath id=\"clip0f2b56x3y3plot\" class=\"plotclip\"><rect width=\"514\" height=\"71.11111111111111\"/></clipPath><clipPath class=\"axesclip\" id=\"clip0f2b56x\"><rect x=\"80\" y=\"0\" width=\"514\" height=\"500\"/></clipPath><clipPath class=\"axesclip\" id=\"clip0f2b56y\"><rect x=\"0\" y=\"100\" width=\"700\" height=\"71.11111111111111\"/></clipPath><clipPath class=\"axesclip\" id=\"clip0f2b56xy\"><rect x=\"80\" y=\"100\" width=\"514\" height=\"71.11111111111111\"/></clipPath><clipPath class=\"axesclip\" id=\"clip0f2b56y2\"><rect x=\"0\" y=\"224.44444444444443\" width=\"700\" height=\"71.11111111111113\"/></clipPath><clipPath class=\"axesclip\" id=\"clip0f2b56xy2\"><rect x=\"80\" y=\"224.44444444444443\" width=\"514\" height=\"71.11111111111113\"/></clipPath><clipPath class=\"axesclip\" id=\"clip0f2b56y3\"><rect x=\"0\" y=\"348.8888888888889\" width=\"700\" height=\"71.11111111111111\"/></clipPath><clipPath class=\"axesclip\" id=\"clip0f2b56xy3\"><rect x=\"80\" y=\"348.8888888888889\" width=\"514\" height=\"71.11111111111111\"/></clipPath><clipPath class=\"axesclip\" id=\"clip0f2b56x2\"><rect x=\"80\" y=\"0\" width=\"514\" height=\"500\"/></clipPath><clipPath class=\"axesclip\" id=\"clip0f2b56x2y\"><rect x=\"80\" y=\"100\" width=\"514\" height=\"71.11111111111111\"/></clipPath><clipPath class=\"axesclip\" id=\"clip0f2b56x2y2\"><rect x=\"80\" y=\"224.44444444444443\" width=\"514\" height=\"71.11111111111113\"/></clipPath><clipPath class=\"axesclip\" id=\"clip0f2b56x2y3\"><rect x=\"80\" y=\"348.8888888888889\" width=\"514\" height=\"71.11111111111111\"/></clipPath><clipPath class=\"axesclip\" id=\"clip0f2b56x3\"><rect x=\"80\" y=\"0\" width=\"514\" height=\"500\"/></clipPath><clipPath class=\"axesclip\" id=\"clip0f2b56x3y\"><rect x=\"80\" y=\"100\" width=\"514\" height=\"71.11111111111111\"/></clipPath><clipPath class=\"axesclip\" id=\"clip0f2b56x3y2\"><rect x=\"80\" y=\"224.44444444444443\" width=\"514\" height=\"71.11111111111113\"/></clipPath><clipPath class=\"axesclip\" id=\"clip0f2b56x3y3\"><rect x=\"80\" y=\"348.8888888888889\" width=\"514\" height=\"71.11111111111111\"/></clipPath></g><g class=\"gradients\"/><g class=\"patterns\"/></defs><g class=\"bglayer\"><rect class=\"bg\" x=\"80\" y=\"100\" width=\"514\" height=\"71.11111111111111\" style=\"fill: rgb(229, 236, 246); fill-opacity: 1; stroke-width: 0;\"/><rect class=\"bg\" x=\"80\" y=\"224.44444444444443\" width=\"514\" height=\"71.11111111111113\" style=\"fill: rgb(229, 236, 246); fill-opacity: 1; stroke-width: 0;\"/><rect class=\"bg\" x=\"80\" y=\"348.8888888888889\" width=\"514\" height=\"71.11111111111111\" style=\"fill: rgb(229, 236, 246); fill-opacity: 1; stroke-width: 0;\"/></g><g class=\"layer-below\"><g class=\"imagelayer\"/><g class=\"shapelayer\"/></g><g class=\"cartesianlayer\"><g class=\"subplot xy\"><g class=\"layer-subplot\"><g class=\"shapelayer\"/><g class=\"imagelayer\"/></g><g class=\"minor-gridlayer\"><g class=\"x\"/><g class=\"y\"/></g><g class=\"gridlayer\"><g class=\"x\"/><g class=\"y\"><path class=\"ygrid crisp\" transform=\"translate(0,148.59)\" d=\"M80,0h514\" style=\"stroke: rgb(255, 255, 255); stroke-opacity: 1; stroke-width: 1px;\"/><path class=\"ygrid crisp\" transform=\"translate(0,126.07)\" d=\"M80,0h514\" style=\"stroke: rgb(255, 255, 255); stroke-opacity: 1; stroke-width: 1px;\"/><path class=\"ygrid crisp\" transform=\"translate(0,103.56)\" d=\"M80,0h514\" style=\"stroke: rgb(255, 255, 255); stroke-opacity: 1; stroke-width: 1px;\"/></g></g><g class=\"zerolinelayer\"><path class=\"yzl zl crisp\" transform=\"translate(0,171.11)\" d=\"M80,0h514\" style=\"stroke: rgb(255, 255, 255); stroke-opacity: 1; stroke-width: 2px;\"/></g><path class=\"xlines-below\"/><path class=\"ylines-below\"/><g class=\"overlines-below\"/><g class=\"xaxislayer-below\"/><g class=\"yaxislayer-below\"/><g class=\"overaxes-below\"/><g class=\"plot\" transform=\"translate(80,100)\" clip-path=\"url(#clip0f2b56xyplot)\"><g class=\"barlayer mlayer\"><g class=\"trace bars\" shape-rendering=\"crispEdges\" style=\"opacity: 1;\"><g class=\"points\"><g class=\"point\"><path d=\"M0,71.11V39.59H24.48V71.11Z\" style=\"vector-effect: non-scaling-stroke; opacity: 1; stroke-width: 0px; fill: rgb(99, 110, 250); fill-opacity: 1;\"/></g><g class=\"point\"><path d=\"M24.48,71.11V9.19H48.95V71.11Z\" style=\"vector-effect: non-scaling-stroke; opacity: 1; stroke-width: 0px; fill: rgb(99, 110, 250); fill-opacity: 1;\"/></g><g class=\"point\"><path d=\"M48.95,71.11V28.33H73.43V71.11Z\" style=\"vector-effect: non-scaling-stroke; opacity: 1; stroke-width: 0px; fill: rgb(99, 110, 250); fill-opacity: 1;\"/></g><g class=\"point\"><path d=\"M73.43,71.11V23.82H97.9V71.11Z\" style=\"vector-effect: non-scaling-stroke; opacity: 1; stroke-width: 0px; fill: rgb(99, 110, 250); fill-opacity: 1;\"/></g><g class=\"point\"><path d=\"M97.9,71.11V10.31H122.38V71.11Z\" style=\"vector-effect: non-scaling-stroke; opacity: 1; stroke-width: 0px; fill: rgb(99, 110, 250); fill-opacity: 1;\"/></g><g class=\"point\"><path d=\"M122.38,71.11V12.56H146.86V71.11Z\" style=\"vector-effect: non-scaling-stroke; opacity: 1; stroke-width: 0px; fill: rgb(99, 110, 250); fill-opacity: 1;\"/></g><g class=\"point\"><path d=\"M146.86,71.11V22.7H171.33V71.11Z\" style=\"vector-effect: non-scaling-stroke; opacity: 1; stroke-width: 0px; fill: rgb(99, 110, 250); fill-opacity: 1;\"/></g><g class=\"point\"><path d=\"M171.33,71.11V19.32H195.81V71.11Z\" style=\"vector-effect: non-scaling-stroke; opacity: 1; stroke-width: 0px; fill: rgb(99, 110, 250); fill-opacity: 1;\"/></g><g class=\"point\"><path d=\"M195.81,71.11V18.19H220.29V71.11Z\" style=\"vector-effect: non-scaling-stroke; opacity: 1; stroke-width: 0px; fill: rgb(99, 110, 250); fill-opacity: 1;\"/></g><g class=\"point\"><path d=\"M220.29,71.11V14.81H244.76V71.11Z\" style=\"vector-effect: non-scaling-stroke; opacity: 1; stroke-width: 0px; fill: rgb(99, 110, 250); fill-opacity: 1;\"/></g><g class=\"point\"><path d=\"M244.76,71.11V18.19H269.24V71.11Z\" style=\"vector-effect: non-scaling-stroke; opacity: 1; stroke-width: 0px; fill: rgb(99, 110, 250); fill-opacity: 1;\"/></g><g class=\"point\"><path d=\"M269.24,71.11V12.56H293.71V71.11Z\" style=\"vector-effect: non-scaling-stroke; opacity: 1; stroke-width: 0px; fill: rgb(99, 110, 250); fill-opacity: 1;\"/></g><g class=\"point\"><path d=\"M293.71,71.11V8.06H318.19V71.11Z\" style=\"vector-effect: non-scaling-stroke; opacity: 1; stroke-width: 0px; fill: rgb(99, 110, 250); fill-opacity: 1;\"/></g><g class=\"point\"><path d=\"M318.19,71.11V19.32H342.67V71.11Z\" style=\"vector-effect: non-scaling-stroke; opacity: 1; stroke-width: 0px; fill: rgb(99, 110, 250); fill-opacity: 1;\"/></g><g class=\"point\"><path d=\"M342.67,71.11V5.81H367.14V71.11Z\" style=\"vector-effect: non-scaling-stroke; opacity: 1; stroke-width: 0px; fill: rgb(99, 110, 250); fill-opacity: 1;\"/></g><g class=\"point\"><path d=\"M367.14,71.11V18.19H391.62V71.11Z\" style=\"vector-effect: non-scaling-stroke; opacity: 1; stroke-width: 0px; fill: rgb(99, 110, 250); fill-opacity: 1;\"/></g><g class=\"point\"><path d=\"M391.62,71.11V3.56H416.1V71.11Z\" style=\"vector-effect: non-scaling-stroke; opacity: 1; stroke-width: 0px; fill: rgb(99, 110, 250); fill-opacity: 1;\"/></g><g class=\"point\"><path d=\"M416.1,71.11V21.57H440.57V71.11Z\" style=\"vector-effect: non-scaling-stroke; opacity: 1; stroke-width: 0px; fill: rgb(99, 110, 250); fill-opacity: 1;\"/></g><g class=\"point\"><path d=\"M440.57,71.11V6.93H465.05V71.11Z\" style=\"vector-effect: non-scaling-stroke; opacity: 1; stroke-width: 0px; fill: rgb(99, 110, 250); fill-opacity: 1;\"/></g><g class=\"point\"><path d=\"M465.05,71.11V12.56H489.52V71.11Z\" style=\"vector-effect: non-scaling-stroke; opacity: 1; stroke-width: 0px; fill: rgb(99, 110, 250); fill-opacity: 1;\"/></g><g class=\"point\"><path d=\"M489.52,71.11V41.84H514V71.11Z\" style=\"vector-effect: non-scaling-stroke; opacity: 1; stroke-width: 0px; fill: rgb(99, 110, 250); fill-opacity: 1;\"/></g></g></g></g></g><g class=\"overplot\"/><path class=\"xlines-above crisp\" d=\"M0,0\" style=\"fill: none;\"/><path class=\"ylines-above crisp\" d=\"M0,0\" style=\"fill: none;\"/><g class=\"overlines-above\"/><g class=\"xaxislayer-above\"><g class=\"xtick\"><text text-anchor=\"middle\" x=\"0\" y=\"184.11111111111111\" transform=\"translate(92.24,0)\" style=\"font-family: 'Open Sans', verdana, arial, sans-serif; font-size: 12px; fill: rgb(42, 63, 95); fill-opacity: 1; white-space: pre; opacity: 1;\">0</text></g><g class=\"xtick\"><text text-anchor=\"middle\" x=\"0\" y=\"184.11111111111111\" style=\"font-family: 'Open Sans', verdana, arial, sans-serif; font-size: 12px; fill: rgb(42, 63, 95); fill-opacity: 1; white-space: pre; opacity: 1;\" transform=\"translate(190.14,0)\">0.2</text></g><g class=\"xtick\"><text text-anchor=\"middle\" x=\"0\" y=\"184.11111111111111\" style=\"font-family: 'Open Sans', verdana, arial, sans-serif; font-size: 12px; fill: rgb(42, 63, 95); fill-opacity: 1; white-space: pre; opacity: 1;\" transform=\"translate(288.05,0)\">0.4</text></g><g class=\"xtick\"><text text-anchor=\"middle\" x=\"0\" y=\"184.11111111111111\" style=\"font-family: 'Open Sans', verdana, arial, sans-serif; font-size: 12px; fill: rgb(42, 63, 95); fill-opacity: 1; white-space: pre; opacity: 1;\" transform=\"translate(385.95,0)\">0.6</text></g><g class=\"xtick\"><text text-anchor=\"middle\" x=\"0\" y=\"184.11111111111111\" style=\"font-family: 'Open Sans', verdana, arial, sans-serif; font-size: 12px; fill: rgb(42, 63, 95); fill-opacity: 1; white-space: pre; opacity: 1;\" transform=\"translate(483.86,0)\">0.8</text></g><g class=\"xtick\"><text text-anchor=\"middle\" x=\"0\" y=\"184.11111111111111\" style=\"font-family: 'Open Sans', verdana, arial, sans-serif; font-size: 12px; fill: rgb(42, 63, 95); fill-opacity: 1; white-space: pre; opacity: 1;\" transform=\"translate(581.76,0)\">1</text></g></g><g class=\"yaxislayer-above\"><g class=\"ytick\"><text text-anchor=\"end\" x=\"79\" y=\"4.199999999999999\" transform=\"translate(0,171.11)\" style=\"font-family: 'Open Sans', verdana, arial, sans-serif; font-size: 12px; fill: rgb(42, 63, 95); fill-opacity: 1; white-space: pre; opacity: 1;\">0</text></g><g class=\"ytick\"><text text-anchor=\"end\" x=\"79\" y=\"4.199999999999999\" style=\"font-family: 'Open Sans', verdana, arial, sans-serif; font-size: 12px; fill: rgb(42, 63, 95); fill-opacity: 1; white-space: pre; opacity: 1;\" transform=\"translate(0,148.59)\">20</text></g><g class=\"ytick\"><text text-anchor=\"end\" x=\"79\" y=\"4.199999999999999\" style=\"font-family: 'Open Sans', verdana, arial, sans-serif; font-size: 12px; fill: rgb(42, 63, 95); fill-opacity: 1; white-space: pre; opacity: 1;\" transform=\"translate(0,126.07)\">40</text></g><g class=\"ytick\"><text text-anchor=\"end\" x=\"79\" y=\"4.199999999999999\" style=\"font-family: 'Open Sans', verdana, arial, sans-serif; font-size: 12px; fill: rgb(42, 63, 95); fill-opacity: 1; white-space: pre; opacity: 1;\" transform=\"translate(0,103.56)\">60</text></g></g><g class=\"overaxes-above\"/></g><g class=\"subplot x2y2\"><g class=\"layer-subplot\"><g class=\"shapelayer\"/><g class=\"imagelayer\"/></g><g class=\"minor-gridlayer\"><g class=\"x2\"/><g class=\"y2\"/></g><g class=\"gridlayer\"><g class=\"x2\"/><g class=\"y2\"><path class=\"y2grid crisp\" transform=\"translate(0,261.4344444444444)\" d=\"M80,0h514\" style=\"stroke: rgb(255, 255, 255); stroke-opacity: 1; stroke-width: 1px;\"/><path class=\"y2grid crisp\" transform=\"translate(0,227.31444444444443)\" d=\"M80,0h514\" style=\"stroke: rgb(255, 255, 255); stroke-opacity: 1; stroke-width: 1px;\"/></g></g><g class=\"zerolinelayer\"><path class=\"y2zl zl crisp\" transform=\"translate(0,295.5544444444444)\" d=\"M80,0h514\" style=\"stroke: rgb(255, 255, 255); stroke-opacity: 1; stroke-width: 2px;\"/></g><path class=\"xlines-below\"/><path class=\"ylines-below\"/><g class=\"overlines-below\"/><g class=\"xaxislayer-below\"/><g class=\"yaxislayer-below\"/><g class=\"overaxes-below\"/><g class=\"plot\" transform=\"translate(80,224.44444444444443)\" clip-path=\"url(#clip0f2b56x2y2plot)\"><g class=\"barlayer mlayer\"><g class=\"trace bars\" shape-rendering=\"crispEdges\" style=\"opacity: 1;\"><g class=\"points\"><g class=\"point\"><path d=\"M0,71.11V61.56H25.7V71.11Z\" style=\"vector-effect: non-scaling-stroke; opacity: 1; stroke-width: 0px; fill: rgb(239, 85, 59); fill-opacity: 1;\"/></g><g class=\"point\"><path d=\"M25.7,71.11V60.88H51.4V71.11Z\" style=\"vector-effect: non-scaling-stroke; opacity: 1; stroke-width: 0px; fill: rgb(239, 85, 59); fill-opacity: 1;\"/></g><g class=\"point\"><path d=\"M51.4,71.11V58.83H77.1V71.11Z\" style=\"vector-effect: non-scaling-stroke; opacity: 1; stroke-width: 0px; fill: rgb(239, 85, 59); fill-opacity: 1;\"/></g><g class=\"point\"><path d=\"M77.1,71.11V47.91H102.8V71.11Z\" style=\"vector-effect: non-scaling-stroke; opacity: 1; stroke-width: 0px; fill: rgb(239, 85, 59); fill-opacity: 1;\"/></g><g class=\"point\"><path d=\"M102.8,71.11V47.91H128.5V71.11Z\" style=\"vector-effect: non-scaling-stroke; opacity: 1; stroke-width: 0px; fill: rgb(239, 85, 59); fill-opacity: 1;\"/></g><g class=\"point\"><path d=\"M128.5,71.11V34.26H154.2V71.11Z\" style=\"vector-effect: non-scaling-stroke; opacity: 1; stroke-width: 0px; fill: rgb(239, 85, 59); fill-opacity: 1;\"/></g><g class=\"point\"><path d=\"M154.2,71.11V23.34H179.9V71.11Z\" style=\"vector-effect: non-scaling-stroke; opacity: 1; stroke-width: 0px; fill: rgb(239, 85, 59); fill-opacity: 1;\"/></g><g class=\"point\"><path d=\"M179.9,71.11V24.03H205.6V71.11Z\" style=\"vector-effect: non-scaling-stroke; opacity: 1; stroke-width: 0px; fill: rgb(239, 85, 59); fill-opacity: 1;\"/></g><g class=\"point\"><path d=\"M205.6,71.11V17.89H231.3V71.11Z\" style=\"vector-effect: non-scaling-stroke; opacity: 1; stroke-width: 0px; fill: rgb(239, 85, 59); fill-opacity: 1;\"/></g><g class=\"point\"><path d=\"M231.3,71.11V3.56H257V71.11Z\" style=\"vector-effect: non-scaling-stroke; opacity: 1; stroke-width: 0px; fill: rgb(239, 85, 59); fill-opacity: 1;\"/></g><g class=\"point\"><path d=\"M257,71.11V5.6H282.7V71.11Z\" style=\"vector-effect: non-scaling-stroke; opacity: 1; stroke-width: 0px; fill: rgb(239, 85, 59); fill-opacity: 1;\"/></g><g class=\"point\"><path d=\"M282.7,71.11V12.43H308.4V71.11Z\" style=\"vector-effect: non-scaling-stroke; opacity: 1; stroke-width: 0px; fill: rgb(239, 85, 59); fill-opacity: 1;\"/></g><g class=\"point\"><path d=\"M308.4,71.11V14.47H334.1V71.11Z\" style=\"vector-effect: non-scaling-stroke; opacity: 1; stroke-width: 0px; fill: rgb(239, 85, 59); fill-opacity: 1;\"/></g><g class=\"point\"><path d=\"M334.1,71.11V23.34H359.8V71.11Z\" style=\"vector-effect: non-scaling-stroke; opacity: 1; stroke-width: 0px; fill: rgb(239, 85, 59); fill-opacity: 1;\"/></g><g class=\"point\"><path d=\"M359.8,71.11V41.09H385.5V71.11Z\" style=\"vector-effect: non-scaling-stroke; opacity: 1; stroke-width: 0px; fill: rgb(239, 85, 59); fill-opacity: 1;\"/></g><g class=\"point\"><path d=\"M385.5,71.11V29.49H411.2V71.11Z\" style=\"vector-effect: non-scaling-stroke; opacity: 1; stroke-width: 0px; fill: rgb(239, 85, 59); fill-opacity: 1;\"/></g><g class=\"point\"><path d=\"M411.2,71.11V47.23H436.9V71.11Z\" style=\"vector-effect: non-scaling-stroke; opacity: 1; stroke-width: 0px; fill: rgb(239, 85, 59); fill-opacity: 1;\"/></g><g class=\"point\"><path d=\"M436.9,71.11V55.42H462.6V71.11Z\" style=\"vector-effect: non-scaling-stroke; opacity: 1; stroke-width: 0px; fill: rgb(239, 85, 59); fill-opacity: 1;\"/></g><g class=\"point\"><path d=\"M462.6,71.11V64.97H488.3V71.11Z\" style=\"vector-effect: non-scaling-stroke; opacity: 1; stroke-width: 0px; fill: rgb(239, 85, 59); fill-opacity: 1;\"/></g><g class=\"point\"><path d=\"M488.3,71.11V65.65H514V71.11Z\" style=\"vector-effect: non-scaling-stroke; opacity: 1; stroke-width: 0px; fill: rgb(239, 85, 59); fill-opacity: 1;\"/></g></g></g></g></g><g class=\"overplot\"/><path class=\"xlines-above crisp\" d=\"M0,0\" style=\"fill: none;\"/><path class=\"ylines-above crisp\" d=\"M0,0\" style=\"fill: none;\"/><g class=\"overlines-above\"/><g class=\"xaxislayer-above\"><g class=\"x2tick\"><text text-anchor=\"middle\" x=\"0\" y=\"308.55555555555554\" transform=\"translate(80,0)\" style=\"font-family: 'Open Sans', verdana, arial, sans-serif; font-size: 12px; fill: rgb(42, 63, 95); fill-opacity: 1; white-space: pre; opacity: 1;\">0</text></g><g class=\"x2tick\"><text text-anchor=\"middle\" x=\"0\" y=\"308.55555555555554\" style=\"font-family: 'Open Sans', verdana, arial, sans-serif; font-size: 12px; fill: rgb(42, 63, 95); fill-opacity: 1; white-space: pre; opacity: 1;\" transform=\"translate(182.8,0)\">0.2</text></g><g class=\"x2tick\"><text text-anchor=\"middle\" x=\"0\" y=\"308.55555555555554\" style=\"font-family: 'Open Sans', verdana, arial, sans-serif; font-size: 12px; fill: rgb(42, 63, 95); fill-opacity: 1; white-space: pre; opacity: 1;\" transform=\"translate(285.6,0)\">0.4</text></g><g class=\"x2tick\"><text text-anchor=\"middle\" x=\"0\" y=\"308.55555555555554\" style=\"font-family: 'Open Sans', verdana, arial, sans-serif; font-size: 12px; fill: rgb(42, 63, 95); fill-opacity: 1; white-space: pre; opacity: 1;\" transform=\"translate(388.4,0)\">0.6</text></g><g class=\"x2tick\"><text text-anchor=\"middle\" x=\"0\" y=\"308.55555555555554\" style=\"font-family: 'Open Sans', verdana, arial, sans-serif; font-size: 12px; fill: rgb(42, 63, 95); fill-opacity: 1; white-space: pre; opacity: 1;\" transform=\"translate(491.2,0)\">0.8</text></g><g class=\"x2tick\"><text text-anchor=\"middle\" x=\"0\" y=\"308.55555555555554\" style=\"font-family: 'Open Sans', verdana, arial, sans-serif; font-size: 12px; fill: rgb(42, 63, 95); fill-opacity: 1; white-space: pre; opacity: 1;\" transform=\"translate(594,0)\">1</text></g></g><g class=\"yaxislayer-above\"><g class=\"y2tick\"><text text-anchor=\"end\" x=\"79\" y=\"4.199999999999999\" transform=\"translate(0,295.5544444444444)\" style=\"font-family: 'Open Sans', verdana, arial, sans-serif; font-size: 12px; fill: rgb(42, 63, 95); fill-opacity: 1; white-space: pre; opacity: 1;\">0</text></g><g class=\"y2tick\"><text text-anchor=\"end\" x=\"79\" y=\"4.199999999999999\" style=\"font-family: 'Open Sans', verdana, arial, sans-serif; font-size: 12px; fill: rgb(42, 63, 95); fill-opacity: 1; white-space: pre; opacity: 1;\" transform=\"translate(0,261.4344444444444)\">50</text></g><g class=\"y2tick\"><text text-anchor=\"end\" x=\"79\" y=\"4.199999999999999\" style=\"font-family: 'Open Sans', verdana, arial, sans-serif; font-size: 12px; fill: rgb(42, 63, 95); fill-opacity: 1; white-space: pre; opacity: 1;\" transform=\"translate(0,227.31444444444443)\">100</text></g></g><g class=\"overaxes-above\"/></g><g class=\"subplot x3y3\"><g class=\"layer-subplot\"><g class=\"shapelayer\"/><g class=\"imagelayer\"/></g><g class=\"minor-gridlayer\"><g class=\"x3\"/><g class=\"y3\"/></g><g class=\"gridlayer\"><g class=\"x3\"/><g class=\"y3\"><path class=\"y3grid crisp\" transform=\"translate(0,399.3988888888889)\" d=\"M80,0h514\" style=\"stroke: rgb(255, 255, 255); stroke-opacity: 1; stroke-width: 1px;\"/><path class=\"y3grid crisp\" transform=\"translate(0,378.80888888888893)\" d=\"M80,0h514\" style=\"stroke: rgb(255, 255, 255); stroke-opacity: 1; stroke-width: 1px;\"/><path class=\"y3grid crisp\" transform=\"translate(0,358.2088888888889)\" d=\"M80,0h514\" style=\"stroke: rgb(255, 255, 255); stroke-opacity: 1; stroke-width: 1px;\"/></g></g><g class=\"zerolinelayer\"><path class=\"y3zl zl crisp\" transform=\"translate(0,419.9988888888889)\" d=\"M80,0h514\" style=\"stroke: rgb(255, 255, 255); stroke-opacity: 1; stroke-width: 2px;\"/></g><path class=\"xlines-below\"/><path class=\"ylines-below\"/><g class=\"overlines-below\"/><g class=\"xaxislayer-below\"/><g class=\"yaxislayer-below\"/><g class=\"overaxes-below\"/><g class=\"plot\" transform=\"translate(80,348.8888888888889)\" clip-path=\"url(#clip0f2b56x3y3plot)\"><g class=\"barlayer mlayer\"><g class=\"trace bars\" shape-rendering=\"crispEdges\" style=\"opacity: 1;\"><g class=\"points\"><g class=\"point\"><path d=\"M0,71.11V69.88H28.56V71.11Z\" style=\"vector-effect: non-scaling-stroke; opacity: 1; stroke-width: 0px; fill: rgb(0, 204, 150); fill-opacity: 1;\"/></g><g class=\"point\"><path d=\"M28.56,71.11V70.7H57.11V71.11Z\" style=\"vector-effect: non-scaling-stroke; opacity: 1; stroke-width: 0px; fill: rgb(0, 204, 150); fill-opacity: 1;\"/></g><g class=\"point\"><path d=\"M57.11,71.11V66.99H85.67V71.11Z\" style=\"vector-effect: non-scaling-stroke; opacity: 1; stroke-width: 0px; fill: rgb(0, 204, 150); fill-opacity: 1;\"/></g><g class=\"point\"><path d=\"M85.67,71.11V63.7H114.22V71.11Z\" style=\"vector-effect: non-scaling-stroke; opacity: 1; stroke-width: 0px; fill: rgb(0, 204, 150); fill-opacity: 1;\"/></g><g class=\"point\"><path d=\"M114.22,71.11V58.34H142.78V71.11Z\" style=\"vector-effect: non-scaling-stroke; opacity: 1; stroke-width: 0px; fill: rgb(0, 204, 150); fill-opacity: 1;\"/></g><g class=\"point\"><path d=\"M142.78,71.11V48.04H171.33V71.11Z\" style=\"vector-effect: non-scaling-stroke; opacity: 1; stroke-width: 0px; fill: rgb(0, 204, 150); fill-opacity: 1;\"/></g><g class=\"point\"><path d=\"M171.33,71.11V29.92H199.89V71.11Z\" style=\"vector-effect: non-scaling-stroke; opacity: 1; stroke-width: 0px; fill: rgb(0, 204, 150); fill-opacity: 1;\"/></g><g class=\"point\"><path d=\"M199.89,71.11V25.8H228.44V71.11Z\" style=\"vector-effect: non-scaling-stroke; opacity: 1; stroke-width: 0px; fill: rgb(0, 204, 150); fill-opacity: 1;\"/></g><g class=\"point\"><path d=\"M228.44,71.11V3.56H257V71.11Z\" style=\"vector-effect: non-scaling-stroke; opacity: 1; stroke-width: 0px; fill: rgb(0, 204, 150); fill-opacity: 1;\"/></g><g class=\"point\"><path d=\"M257,71.11V8.91H285.56V71.11Z\" style=\"vector-effect: non-scaling-stroke; opacity: 1; stroke-width: 0px; fill: rgb(0, 204, 150); fill-opacity: 1;\"/></g><g class=\"point\"><path d=\"M285.56,71.11V14.27H314.11V71.11Z\" style=\"vector-effect: non-scaling-stroke; opacity: 1; stroke-width: 0px; fill: rgb(0, 204, 150); fill-opacity: 1;\"/></g><g class=\"point\"><path d=\"M314.11,71.11V29.51H342.67V71.11Z\" style=\"vector-effect: non-scaling-stroke; opacity: 1; stroke-width: 0px; fill: rgb(0, 204, 150); fill-opacity: 1;\"/></g><g class=\"point\"><path d=\"M342.67,71.11V50.1H371.22V71.11Z\" style=\"vector-effect: non-scaling-stroke; opacity: 1; stroke-width: 0px; fill: rgb(0, 204, 150); fill-opacity: 1;\"/></g><g class=\"point\"><path d=\"M371.22,71.11V57.52H399.78V71.11Z\" style=\"vector-effect: non-scaling-stroke; opacity: 1; stroke-width: 0px; fill: rgb(0, 204, 150); fill-opacity: 1;\"/></g><g class=\"point\"><path d=\"M399.78,71.11V62.46H428.33V71.11Z\" style=\"vector-effect: non-scaling-stroke; opacity: 1; stroke-width: 0px; fill: rgb(0, 204, 150); fill-opacity: 1;\"/></g><g class=\"point\"><path d=\"M428.33,71.11V68.64H456.89V71.11Z\" style=\"vector-effect: non-scaling-stroke; opacity: 1; stroke-width: 0px; fill: rgb(0, 204, 150); fill-opacity: 1;\"/></g><g class=\"point\"><path d=\"M456.89,71.11V69.46H485.44V71.11Z\" style=\"vector-effect: non-scaling-stroke; opacity: 1; stroke-width: 0px; fill: rgb(0, 204, 150); fill-opacity: 1;\"/></g><g class=\"point\"><path d=\"M485.44,71.11V70.29H514V71.11Z\" style=\"vector-effect: non-scaling-stroke; opacity: 1; stroke-width: 0px; fill: rgb(0, 204, 150); fill-opacity: 1;\"/></g></g></g></g></g><g class=\"overplot\"/><path class=\"xlines-above crisp\" d=\"M0,0\" style=\"fill: none;\"/><path class=\"ylines-above crisp\" d=\"M0,0\" style=\"fill: none;\"/><g class=\"overlines-above\"/><g class=\"xaxislayer-above\"><g class=\"x3tick\"><text text-anchor=\"middle\" x=\"0\" y=\"433\" transform=\"translate(122.83,0)\" style=\"font-family: 'Open Sans', verdana, arial, sans-serif; font-size: 12px; fill: rgb(42, 63, 95); fill-opacity: 1; white-space: pre; opacity: 1;\">0.35</text></g><g class=\"x3tick\"><text text-anchor=\"middle\" x=\"0\" y=\"433\" style=\"font-family: 'Open Sans', verdana, arial, sans-serif; font-size: 12px; fill: rgb(42, 63, 95); fill-opacity: 1; white-space: pre; opacity: 1;\" transform=\"translate(194.22,0)\">0.4</text></g><g class=\"x3tick\"><text text-anchor=\"middle\" x=\"0\" y=\"433\" style=\"font-family: 'Open Sans', verdana, arial, sans-serif; font-size: 12px; fill: rgb(42, 63, 95); fill-opacity: 1; white-space: pre; opacity: 1;\" transform=\"translate(265.61,0)\">0.45</text></g><g class=\"x3tick\"><text text-anchor=\"middle\" x=\"0\" y=\"433\" style=\"font-family: 'Open Sans', verdana, arial, sans-serif; font-size: 12px; fill: rgb(42, 63, 95); fill-opacity: 1; white-space: pre; opacity: 1;\" transform=\"translate(337,0)\">0.5</text></g><g class=\"x3tick\"><text text-anchor=\"middle\" x=\"0\" y=\"433\" style=\"font-family: 'Open Sans', verdana, arial, sans-serif; font-size: 12px; fill: rgb(42, 63, 95); fill-opacity: 1; white-space: pre; opacity: 1;\" transform=\"translate(408.39,0)\">0.55</text></g><g class=\"x3tick\"><text text-anchor=\"middle\" x=\"0\" y=\"433\" style=\"font-family: 'Open Sans', verdana, arial, sans-serif; font-size: 12px; fill: rgb(42, 63, 95); fill-opacity: 1; white-space: pre; opacity: 1;\" transform=\"translate(479.78,0)\">0.6</text></g><g class=\"x3tick\"><text text-anchor=\"middle\" x=\"0\" y=\"433\" style=\"font-family: 'Open Sans', verdana, arial, sans-serif; font-size: 12px; fill: rgb(42, 63, 95); fill-opacity: 1; white-space: pre; opacity: 1;\" transform=\"translate(551.1700000000001,0)\">0.65</text></g></g><g class=\"yaxislayer-above\"><g class=\"y3tick\"><text text-anchor=\"end\" x=\"79\" y=\"4.199999999999999\" transform=\"translate(0,419.9988888888889)\" style=\"font-family: 'Open Sans', verdana, arial, sans-serif; font-size: 12px; fill: rgb(42, 63, 95); fill-opacity: 1; white-space: pre; opacity: 1;\">0</text></g><g class=\"y3tick\"><text text-anchor=\"end\" x=\"79\" y=\"4.199999999999999\" style=\"font-family: 'Open Sans', verdana, arial, sans-serif; font-size: 12px; fill: rgb(42, 63, 95); fill-opacity: 1; white-space: pre; opacity: 1;\" transform=\"translate(0,399.3988888888889)\">50</text></g><g class=\"y3tick\"><text text-anchor=\"end\" x=\"79\" y=\"4.199999999999999\" style=\"font-family: 'Open Sans', verdana, arial, sans-serif; font-size: 12px; fill: rgb(42, 63, 95); fill-opacity: 1; white-space: pre; opacity: 1;\" transform=\"translate(0,378.80888888888893)\">100</text></g><g class=\"y3tick\"><text text-anchor=\"end\" x=\"79\" y=\"4.199999999999999\" style=\"font-family: 'Open Sans', verdana, arial, sans-serif; font-size: 12px; fill: rgb(42, 63, 95); fill-opacity: 1; white-space: pre; opacity: 1;\" transform=\"translate(0,358.2088888888889)\">150</text></g></g><g class=\"overaxes-above\"/></g></g><g class=\"polarlayer\"/><g class=\"smithlayer\"/><g class=\"ternarylayer\"/><g class=\"geolayer\"/><g class=\"funnelarealayer\"/><g class=\"pielayer\"/><g class=\"iciclelayer\"/><g class=\"treemaplayer\"/><g class=\"sunburstlayer\"/><g class=\"glimages\"/><defs id=\"topdefs-0f2b56\"><g class=\"clips\"/><clipPath id=\"legend0f2b56\"><rect width=\"84\" height=\"67\" x=\"0\" y=\"0\"/></clipPath></defs><g class=\"layer-above\"><g class=\"imagelayer\"/><g class=\"shapelayer\"/></g><g class=\"infolayer\"><g class=\"legend\" pointer-events=\"all\" transform=\"translate(604.28,100)\"><rect class=\"bg\" shape-rendering=\"crispEdges\" style=\"stroke: rgb(68, 68, 68); stroke-opacity: 1; fill: rgb(255, 255, 255); fill-opacity: 1; stroke-width: 0px;\" width=\"84\" height=\"67\" x=\"0\" y=\"0\"/><g class=\"scrollbox\" transform=\"\" clip-path=\"url(#legend0f2b56)\"><g class=\"groups\"><g class=\"traces\" transform=\"translate(0,14.5)\" style=\"opacity: 1;\"><text class=\"legendtext\" text-anchor=\"start\" x=\"40\" y=\"4.680000000000001\" style=\"font-family: 'Open Sans', verdana, arial, sans-serif; font-size: 12px; fill: rgb(42, 63, 95); fill-opacity: 1; white-space: pre;\">trace 0</text><g class=\"layers\" style=\"opacity: 1;\"><g class=\"legendfill\"/><g class=\"legendlines\"/><g class=\"legendsymbols\"><g class=\"legendpoints\"><path class=\"legendundefined\" d=\"M6,6H-6V-6H6Z\" transform=\"translate(20,0)\" style=\"stroke-width: 0px; fill: rgb(99, 110, 250); fill-opacity: 1;\"/></g></g></g><rect class=\"legendtoggle\" x=\"0\" y=\"-9.5\" width=\"78.375\" height=\"19\" style=\"fill: rgb(0, 0, 0); fill-opacity: 0;\"/></g><g class=\"traces\" transform=\"translate(0,33.5)\" style=\"opacity: 1;\"><text class=\"legendtext\" text-anchor=\"start\" x=\"40\" y=\"4.680000000000001\" style=\"font-family: 'Open Sans', verdana, arial, sans-serif; font-size: 12px; fill: rgb(42, 63, 95); fill-opacity: 1; white-space: pre;\">trace 1</text><g class=\"layers\" style=\"opacity: 1;\"><g class=\"legendfill\"/><g class=\"legendlines\"/><g class=\"legendsymbols\"><g class=\"legendpoints\"><path class=\"legendundefined\" d=\"M6,6H-6V-6H6Z\" transform=\"translate(20,0)\" style=\"stroke-width: 0px; fill: rgb(239, 85, 59); fill-opacity: 1;\"/></g></g></g><rect class=\"legendtoggle\" x=\"0\" y=\"-9.5\" width=\"78.375\" height=\"19\" style=\"fill: rgb(0, 0, 0); fill-opacity: 0;\"/></g><g class=\"traces\" transform=\"translate(0,52.5)\" style=\"opacity: 1;\"><text class=\"legendtext\" text-anchor=\"start\" x=\"40\" y=\"4.680000000000001\" style=\"font-family: 'Open Sans', verdana, arial, sans-serif; font-size: 12px; fill: rgb(42, 63, 95); fill-opacity: 1; white-space: pre;\">trace 2</text><g class=\"layers\" style=\"opacity: 1;\"><g class=\"legendfill\"/><g class=\"legendlines\"/><g class=\"legendsymbols\"><g class=\"legendpoints\"><path class=\"legendundefined\" d=\"M6,6H-6V-6H6Z\" transform=\"translate(20,0)\" style=\"stroke-width: 0px; fill: rgb(0, 204, 150); fill-opacity: 1;\"/></g></g></g><rect class=\"legendtoggle\" x=\"0\" y=\"-9.5\" width=\"78.375\" height=\"19\" style=\"fill: rgb(0, 0, 0); fill-opacity: 0;\"/></g></g></g><rect class=\"scrollbar\" rx=\"20\" ry=\"3\" width=\"0\" height=\"0\" style=\"fill: rgb(128, 139, 164); fill-opacity: 1;\" x=\"0\" y=\"0\"/></g><g class=\"g-gtitle\"/><g class=\"g-xtitle\"/><g class=\"g-x2title\"/><g class=\"g-x3title\"/><g class=\"g-ytitle\"/><g class=\"g-y2title\"/><g class=\"g-y3title\"/><g class=\"annotation\" data-index=\"0\" style=\"opacity: 1;\"><g class=\"annotation-text-g\" transform=\"rotate(0,337,87)\"><g class=\"cursor-pointer\" transform=\"translate(282,74)\"><rect class=\"bg\" x=\"0.5\" y=\"0.5\" width=\"110\" height=\"25\" style=\"stroke-width: 1px; stroke: rgb(0, 0, 0); stroke-opacity: 0; fill: rgb(0, 0, 0); fill-opacity: 0;\"/><text class=\"annotation-text\" text-anchor=\"middle\" x=\"55.578125\" y=\"19\" style=\"font-family: 'Open Sans', verdana, arial, sans-serif; font-size: 16px; fill: rgb(42, 63, 95); fill-opacity: 1; white-space: pre;\">Sample Size=1</text></g></g></g><g class=\"annotation\" data-index=\"1\" style=\"opacity: 1;\"><g class=\"annotation-text-g\" transform=\"rotate(0,337,211.44444444444443)\"><g class=\"cursor-pointer\" transform=\"translate(282,198)\"><rect class=\"bg\" x=\"0.5\" y=\"0.5\" width=\"110\" height=\"25\" style=\"stroke-width: 1px; stroke: rgb(0, 0, 0); stroke-opacity: 0; fill: rgb(0, 0, 0); fill-opacity: 0;\"/><text class=\"annotation-text\" text-anchor=\"middle\" x=\"55.578125\" y=\"19\" style=\"font-family: 'Open Sans', verdana, arial, sans-serif; font-size: 16px; fill: rgb(42, 63, 95); fill-opacity: 1; white-space: pre;\">Sample Size=2</text></g></g></g><g class=\"annotation\" data-index=\"2\" style=\"opacity: 1;\"><g class=\"annotation-text-g\" transform=\"rotate(0,337,335.8888888888889)\"><g class=\"cursor-pointer\" transform=\"translate(277,323)\"><rect class=\"bg\" x=\"0.5\" y=\"0.5\" width=\"119\" height=\"25\" style=\"stroke-width: 1px; stroke: rgb(0, 0, 0); stroke-opacity: 0; fill: rgb(0, 0, 0); fill-opacity: 0;\"/><text class=\"annotation-text\" text-anchor=\"middle\" x=\"60.140625\" y=\"19\" style=\"font-family: 'Open Sans', verdana, arial, sans-serif; font-size: 16px; fill: rgb(42, 63, 95); fill-opacity: 1; white-space: pre;\">Sample Size=31</text></g></g></g></g></svg>"
     },
     "metadata": {},
     "output_type": "display_data"
    }
   ],
   "source": [
    "from plotly.subplots import make_subplots\n",
    "samples=[1,2,31]\n",
    "\n",
    "fig = make_subplots(rows=3, cols=1,subplot_titles=[a for a in (f\"Sample Size={i}\" for i in samples)])\n",
    "\n",
    "for i,s_size in enumerate(samples):\n",
    "    x_values = [(sum([random.uniform(0.0, 1.0) for i in range(s_size)]) / \\\n",
    "s_size) for _ in range(sample_count)]\n",
    "    y_values = [1 for _ in range(sample_count)]\n",
    "\n",
    "    fig.add_histogram(x=x_values,y=y_values,nbinsx=20,row=i+1,col=1)\n",
    "\n",
    "fig.show(\"svg\")\n",
    "\n",
    "\n"
   ]
  },
  {
   "attachments": {},
   "cell_type": "markdown",
   "metadata": {},
   "source": [
    "#### Confidence Intervals\n",
    "\n",
    "A confidence interval is a range calculation showing how confidently we believe a sample mean (or other parameter) falls in a range for the population mean.\n",
    "\n",
    "Based on a sample of 31 golden retrievers with a sample mean of 64.408 and a sample\n",
    "standard deviation of 2.05, I am 95% confident that the population mean lies between 63.686 and 65.1296\n",
    "\n",
    "![Confidence Interval](images/Statistics_LOC.png)"
   ]
  },
  {
   "cell_type": "code",
   "execution_count": 14,
   "metadata": {},
   "outputs": [
    {
     "name": "stdout",
     "output_type": "stream",
     "text": [
      "(-1.959963984540054, 1.959963984540054)\n"
     ]
    }
   ],
   "source": [
    "def critical_z_value(p):\n",
    "    norm_dist = norm(loc=0.0, scale=1.0)\n",
    "    left_tail_area = (1.0 - p) / 2.0\n",
    "    upper_area = 1.0 - ((1.0 - p) / 2.0)\n",
    "    return norm_dist.ppf(left_tail_area), norm_dist.ppf(upper_area)\n",
    "print(critical_z_value(p=.95))"
   ]
  },
  {
   "attachments": {},
   "cell_type": "markdown",
   "metadata": {},
   "source": [
    "OK, so we get ±1.95996, which is our critical z-value capturing 95% of probability\n",
    "at the center of the standard normal distribution"
   ]
  },
  {
   "attachments": {},
   "cell_type": "markdown",
   "metadata": {},
   "source": [
    "Margin of Error\n",
    "\n",
    "which is the range around the sample mean that contains the population mean at that level of confidence. Recall that our sample of 31 golden retrievers has a mean of 64.408 and standard deviation of 2.05.\n",
    "\n",
    "\\begin{gather*}\n",
    "E\\ =\\pm z_{C}\\frac{s}{\\sqrt{n}}\\\\\n",
    "E\\ =\\pm 1.95996*\\frac{2.05}{\\sqrt{31}}\\\\\n",
    "E\\ =\\pm 0.72164\n",
    "\\end{gather*}\n",
    "\n",
    "if we apply that margin of error against the sample mean, we finally get the confidence interval !\n",
    "\n",
    "\\begin{gather*}\n",
    "95\\%\\ confidence\\ interval\\ = 64.408 \\pm 0.72164\\\\\n",
    "\\end{gather*}\n"
   ]
  },
  {
   "cell_type": "code",
   "execution_count": 15,
   "metadata": {},
   "outputs": [
    {
     "name": "stdout",
     "output_type": "stream",
     "text": [
      "(63.68635915701992, 65.12964084298008)\n"
     ]
    }
   ],
   "source": [
    "def critical_z_value(p):\n",
    "    norm_dist = norm(loc=0.0, scale=1.0)\n",
    "    left_tail_area = (1.0 - p) / 2.0\n",
    "    upper_area = 1.0 - ((1.0 - p) / 2.0)\n",
    "    return norm_dist.ppf(left_tail_area), norm_dist.ppf(upper_area)\n",
    "\n",
    "def confidence_interval(p, sample_mean, sample_std, n):\n",
    "    # Sample size must be greater than 30\n",
    "    lower, upper = critical_z_value(p)\n",
    "    lower_ci = lower * (sample_std / sqrt(n))\n",
    "    upper_ci = upper * (sample_std / sqrt(n))\n",
    "    return sample_mean + lower_ci, sample_mean + upper_ci\n",
    "\n",
    "print(confidence_interval(p=.95, sample_mean=64.408, sample_std=2.05, n=31))"
   ]
  },
  {
   "attachments": {},
   "cell_type": "markdown",
   "metadata": {},
   "source": [
    "So the way to interpret this is “based on my sample of 31 golden retriever weights\n",
    "with sample mean 64.408 and sample standard deviation of 2.05, I am 95% confident\n",
    "the population mean lies between 63.686 and 65.1296.” That is how we describe our\n",
    "confidence interval"
   ]
  },
  {
   "attachments": {},
   "cell_type": "markdown",
   "metadata": {},
   "source": [
    "### Understanding P-Values\n",
    "\n",
    "When we say something is *statistically significant*, what do we mean by that?\n",
    "\n",
    "In 1925, mathematician Ronald Fisher was at a party. One of his colleagues Muriel\n",
    "Bristol claimed she could detect when tea was poured before milk simply by tasting it.\n",
    "Intrigued by the claim, Ronald set up an experiment on the spot.\n",
    "He prepared eight cups of tea. Four had milk poured first; the other four had tea\n",
    "poured first. He then presented them to his connoisseur colleague and asked her to\n",
    "identify the pour order for each. Remarkably, she identified them all correctly, and the probability of this happening by chance is 1 in 70, or 0.01428571\n",
    "\n",
    "This 1.4% probability is what we call the p-value. The probability of something occurring by chance rather than because of a hypothesized explanation.\n",
    "\n",
    "When we frame an experiment, whether it is determining if organic donuts cause\n",
    "weight gain or living near power lines causes cancer, we always have to entertain\n",
    "the possibility that random luck played a role. Just like there is a 1.4% chance\n",
    "Muriel identified the cups of tea correctly simply by guessing, there’s always a chance randomness just gave us a good hand like a slot machine. This helps us frame our null hypothesis ($H_{0}$), saying that the variable in question had no impact on the experiment and any positive results are just random luck. The alternative hypothesis ($H_{1}$) poses that a variable in question (called the controlled variable) is causing a positive result.\n",
    "\n",
    "Traditionally, the threshold for statistical significance is a p-value of 5% or less, or .05. Since .014 is less than .05, this would mean we can reject our null hypothesis that Muriel was randomly guessing. We can then promote the alternative hypothesis that Muriel had a special ability to detect whether tea or milk was poured first."
   ]
  },
  {
   "attachments": {},
   "cell_type": "markdown",
   "metadata": {},
   "source": [
    "#### Hypothesis Testing\n",
    "\n",
    "Past studies have shown that the mean recovery time for a cold is 18 days, with a\n",
    "standard deviation of 1.5 days, and follows a normal distribution.\n",
    "This means there is approximately 95% chance of recovery taking between 15 and 21\n",
    "days as shown \n",
    "\n",
    "![Hypothesis Testing](images/Statistics_HypothesisTesting.png)"
   ]
  },
  {
   "cell_type": "code",
   "execution_count": 16,
   "metadata": {},
   "outputs": [
    {
     "name": "stdout",
     "output_type": "stream",
     "text": [
      "0.9544997361036416\n"
     ]
    }
   ],
   "source": [
    "# Cold has 18 day mean recovery, 1.5 std dev\n",
    "mean = 18\n",
    "std_dev = 1.5\n",
    "# 95% probability recovery time takes between 15 and 21 days.\n",
    "x = norm.cdf(21, mean, std_dev) - norm.cdf(15, mean, std_dev)\n",
    "print(x)"
   ]
  },
  {
   "attachments": {},
   "cell_type": "markdown",
   "metadata": {},
   "source": [
    "We can infer then from the remaining 5% probability that there’s a 2.5% chance of\n",
    "recovery taking longer than 21 days and a 2.5% chance of it taking fewer than 15\n",
    "days"
   ]
  },
  {
   "attachments": {},
   "cell_type": "markdown",
   "metadata": {},
   "source": [
    "Now let’s say an experimental new drug was given to a test group of 40 people, and it took an average of 16 days for them to recover from the cold. Did the drug have an impact? If you reason long enough, you may realize what we are asking is this: does the drug show a statistically signficant result? Or did the drug not work and the 16-day recovery was a coincidence with the test group? That first question frames our alternative hypothesis, while the second question frames our null\n",
    "hypothesis.\n",
    "\n",
    "There are two ways we can calculate this: the one-tailed and two-tailed test."
   ]
  },
  {
   "attachments": {},
   "cell_type": "markdown",
   "metadata": {},
   "source": [
    "#### One-Tailed Test\n",
    "When we approach the one-tailed test, we typically frame our null and alternative\n",
    "hypotheses using inequalities. We hypothesize around the population mean and say that it either is greater than/equal to 18 (the null hypothesis $H_{0}$) or less than 18 (the alternative hypothesis $H_{1}$):\n",
    "\\begin{split}\n",
    "H_{0}:population\\ mean ≥ 18\\\\\n",
    "H_{1}:population\\ mean < 18\n",
    "\\end{split}\n",
    "\n",
    "To reject our null hypothesis, we need to show that our sample mean of the patients\n",
    "who took the drug is not likely to have been coincidental. Since a p-value of .05 or less is traditionally considered statistically signficant, we will use that as our threshold"
   ]
  },
  {
   "cell_type": "code",
   "execution_count": 17,
   "metadata": {},
   "outputs": [
    {
     "name": "stdout",
     "output_type": "stream",
     "text": [
      "15.53271955957279\n"
     ]
    }
   ],
   "source": [
    "# Cold has 18 day mean recovery, 1.5 std dev\n",
    "mean = 18\n",
    "std_dev = 1.5\n",
    "# What x-value has 5% of area behind it?\n",
    "x = norm.ppf(.05, mean, std_dev)\n",
    "print(x)"
   ]
  },
  {
   "attachments": {},
   "cell_type": "markdown",
   "metadata": {},
   "source": [
    "we find that approximately 15.53 is the number of recovery days that gives us .05 area on the left tail. Therefore, if we achieve an average 15.53 or fewer days of recovery time in our sample group, our drug is considered statistically significant enough to have shown an impact. However, our sample mean of recovery time is actually 16 days and does not fall into this null hypothesis rejection zone. Therefore, the statistical significance test has failed"
   ]
  },
  {
   "cell_type": "code",
   "execution_count": 18,
   "metadata": {},
   "outputs": [
    {
     "name": "stdout",
     "output_type": "stream",
     "text": [
      "0.09121121972586788\n"
     ]
    }
   ],
   "source": [
    "# Cold has 18 day mean recovery, 1.5 std dev\n",
    "mean = 18\n",
    "std_dev = 1.5\n",
    "# Probability of 16 or less days\n",
    "p_value = norm.cdf(16, mean, std_dev)\n",
    "print(p_value) "
   ]
  },
  {
   "attachments": {},
   "cell_type": "markdown",
   "metadata": {},
   "source": [
    "Since the p-value of .0912 is greater than our statistical significance threshold of .05, we do not consider the drug trial a success and fail to reject our null hypothesis."
   ]
  },
  {
   "attachments": {},
   "cell_type": "markdown",
   "metadata": {},
   "source": [
    "#### Two-Tailed Test\n",
    "The previous test we performed is called the one-tailed test because it looks for\n",
    "statistical significance only on one tail. However, it is often safer and better practice to use a two-tailed test. We will elaborate why, but first let’s calculate it. To do a two-tailed test, we frame our null and alternative hypothesis in an “equal” and “not equal” structure.\n",
    "\n",
    "In our drug test, we will say the null hypothesis has a mean recovery time of 18 days. But our alternative hypothesis is the mean recovery time is not 18 days, thanks to the new drug:\n",
    "\n",
    "\\begin{split}\n",
    "H_{0}:population\\ mean = 18\\\\\n",
    "H_{1}:population\\ mean \\ne 18\n",
    "\\end{split}"
   ]
  },
  {
   "attachments": {},
   "cell_type": "markdown",
   "metadata": {},
   "source": [
    "This has an important implication. We are structuring our alternative hypothesis to\n",
    "not test whether the drug improves cold recovery time, but if it had any impact. This includes testing if it increased the duration of the cold. Is this helpful? \n",
    "Naturally, this means we spread our p-value statistical significance threshold to both tails, not just one. If we are testing for a statistical significance of 5%, then we split it and give each 2.5% half to each tail. If our drug’s mean recovery time falls in either region, our test is successful and we reject the null hypothesis "
   ]
  },
  {
   "cell_type": "code",
   "execution_count": 19,
   "metadata": {},
   "outputs": [
    {
     "name": "stdout",
     "output_type": "stream",
     "text": [
      "15.060054023189918\n",
      "20.93994597681008\n"
     ]
    }
   ],
   "source": [
    "# Cold has 18 day mean recovery, 1.5 std dev\n",
    "mean = 18\n",
    "std_dev = 1.5\n",
    "# What x-value has 2.5% of area behind it?\n",
    "x1 = norm.ppf(.025, mean, std_dev)\n",
    "# What x-value has 97.5% of area behind it\n",
    "x2 = norm.ppf(.975, mean, std_dev)\n",
    "print(x1) \n",
    "print(x2) "
   ]
  },
  {
   "attachments": {},
   "cell_type": "markdown",
   "metadata": {},
   "source": [
    "The sample mean value for the drug test group is 16, and 16 is not less than 15.06\n",
    "nor greater than 20.9399. So like the one-tailed test, we still fail to reject the null hypothesis. But what is the p-value? This is where it gets interesting with two-tailed tests. Our p-value is going to capture not just the area to the left of 16 but also the symmetrical equivalent area on the right tail. Since 16 is 2 days below the mean, we will also capture the area above 20, which is 2 days above the mean. This is capturing the probability of an event or rarer, on both sides of the bell curve."
   ]
  },
  {
   "cell_type": "code",
   "execution_count": 20,
   "metadata": {},
   "outputs": [
    {
     "name": "stdout",
     "output_type": "stream",
     "text": [
      "0.18242243945173575\n"
     ]
    }
   ],
   "source": [
    "# Cold has 18 day mean recovery, 1.5 std dev\n",
    "mean = 18\n",
    "std_dev = 1.5\n",
    "# Probability of 16 or less days\n",
    "p1 = norm.cdf(16, mean, std_dev)\n",
    "# Probability of 20 or more days\n",
    "p2 = 1.0 - norm.cdf(20, mean, std_dev)\n",
    "# P-value of both tails\n",
    "p_value = p1 + p2\n",
    "print(p_value)"
   ]
  },
  {
   "attachments": {},
   "cell_type": "markdown",
   "metadata": {},
   "source": [
    "You will notice that even when our objective is to show we may have lessened something (the cold-recovery time using a drug), reframing our hypothesis to show any impact (greater or lesser) creates a higher significance threshold. If our  significance threshold is a p-value of .05 or less, our one-tailed test was closer to acceptance at p-value .0912 as opposed to the two-tailed test, which was about double that at p-value .182.\n",
    "\n",
    "This means the two-tailed test makes it harder to reject the null hypothesis and\n",
    "demands stronger evidence to pass a test."
   ]
  },
  {
   "attachments": {},
   "cell_type": "markdown",
   "metadata": {},
   "source": [
    "### The T-Distribution: Dealing with Small Samples\n",
    "\n",
    "if we have 30 or fewer items in a sample we would opt to use a T-distribution instead of a normal distribution. The T-distribution is like a normal distribution but has fatter tails to reflect more variance and uncertainty"
   ]
  },
  {
   "cell_type": "code",
   "execution_count": 21,
   "metadata": {},
   "outputs": [
    {
     "name": "stdout",
     "output_type": "stream",
     "text": [
      "-2.063898561628021 2.0638985616280205\n"
     ]
    }
   ],
   "source": [
    "from scipy.stats import t\n",
    "# get critical value range for 95% confidence\n",
    "# with a sample size of 25\n",
    "n = 25\n",
    "lower = t.ppf(.025, df=n-1)\n",
    "upper = t.ppf(.975, df=n-1)\n",
    "print(lower, upper)"
   ]
  },
  {
   "attachments": {},
   "cell_type": "markdown",
   "metadata": {},
   "source": [
    "## Excercises\n",
    "1. You bought a spool of 1.75 mm filament for your 3D printer. You want to\n",
    "measure how close the filament diameter really is to 1.75 mm. You use a caliper\n",
    "tool and sample the diameter five times on the spool:\n",
    "\n",
    "1.78, 1.75, 1.72, 1.74, 1.77\n",
    "\n",
    "Calculate the mean and standard deviation for this set of values\n",
    "\n",
    "Ans: \n",
    "\\begin{split}\n",
    "\\sigma = \\sqrt{\\frac {\\sum{(x_{i}-\\mu)^2}} {N}}\n",
    "\\end{split}"
   ]
  },
  {
   "cell_type": "code",
   "execution_count": 22,
   "metadata": {},
   "outputs": [
    {
     "name": "stdout",
     "output_type": "stream",
     "text": [
      "Mean is 1.752\n",
      "STD is 0.02135415650406264\n"
     ]
    }
   ],
   "source": [
    "data = [1.78, 1.75, 1.72, 1.74, 1.77]\n",
    "\n",
    "mean = sum(data)/len(data)\n",
    "\n",
    "print(f'Mean is {mean}')\n",
    "_variance = sum((v - mean) ** 2 for v in data) / len(data)\n",
    "std = sqrt(_variance)\n",
    "print(f'STD is {std}')"
   ]
  },
  {
   "attachments": {},
   "cell_type": "markdown",
   "metadata": {},
   "source": [
    "2. A manufacturer says the Z-Phone smart phone has a mean consumer life of 42\n",
    "months with a standard deviation of 8 months. Assuming a normal distribution,\n",
    "what is the probability a given random Z-Phone will last between 20 and 30\n",
    "months?"
   ]
  },
  {
   "cell_type": "code",
   "execution_count": 23,
   "metadata": {},
   "outputs": [
    {
     "name": "stdout",
     "output_type": "stream",
     "text": [
      "0.0638274380338035\n"
     ]
    }
   ],
   "source": [
    "mean = 42 # months\n",
    "std = 8 # months\n",
    "\n",
    "print(norm.cdf(30,mean,std) - norm.cdf(20,mean,std))"
   ]
  },
  {
   "attachments": {},
   "cell_type": "markdown",
   "metadata": {},
   "source": [
    "3. I am skeptical that my 3D printer filament is not 1.75 mm in average diameter\n",
    "as advertised. I sampled 34 measurements with my tool. The sample mean is 1.715588 and the sample standard deviation is 0.029252\n",
    "\n",
    "What is the 99% confidence interval for the mean of my entire spool of filament?"
   ]
  },
  {
   "cell_type": "code",
   "execution_count": 24,
   "metadata": {},
   "outputs": [
    {
     "name": "stdout",
     "output_type": "stream",
     "text": [
      "left-area:0.0050000000000000044, right-area:0.995\n",
      "lower:-2.5758293035489004, upper:2.5758293035489004\n",
      "(1.7026658973748656, 1.7285101026251342)\n"
     ]
    }
   ],
   "source": [
    "mean = 1.715588\n",
    "std = 0.029252\n",
    "N = 34\n",
    "\n",
    "# the critical z value\n",
    "\n",
    "def critical_z_value(p,mean=0.0, std=1.0):\n",
    "    norm_dist = norm(loc=mean,scale=std)\n",
    "    left_area = (1.0 - p)/2.0\n",
    "    right_area = 1.0 - ((1.0 - p)/2.0)\n",
    "    print(f'left-area:{left_area}, right-area:{right_area}')\n",
    "    return norm_dist.ppf(left_area),norm_dist.ppf(right_area)\n",
    "\n",
    "\n",
    "\n",
    "\n",
    "def ci_large_sample(p,sample_mean,sample_std,n):\n",
    "    lower,upper = critical_z_value(p)\n",
    "    print(f'lower:{lower}, upper:{upper}')\n",
    "    lower_ci = lower * (sample_std / sqrt(n))\n",
    "    upper_ci = upper * (sample_std / sqrt(n))\n",
    "    return sample_mean + lower_ci, sample_mean + upper_ci\n",
    "\n",
    "print(ci_large_sample(p=.99, sample_mean=mean,sample_std=std, n=N))"
   ]
  },
  {
   "attachments": {},
   "cell_type": "markdown",
   "metadata": {},
   "source": [
    "Your marketing department has started a new advertising campaign and wants to\n",
    "know if it affected sales, which in the past averaged $10,345 a day with a standard deviation of $552. The new advertising campaign ran for 45 days and averaged $11,641 in sales. Did the campaign affect sales? Why or why not? (Use a two-tailed test for more reliable significance.)"
   ]
  },
  {
   "cell_type": "code",
   "execution_count": 25,
   "metadata": {},
   "outputs": [
    {
     "name": "stdout",
     "output_type": "stream",
     "text": [
      "P-Value: 1.8883%\n",
      "passes two tailed test\n"
     ]
    }
   ],
   "source": [
    "mean = 10345\n",
    "std = 552\n",
    "\n",
    "N = 45\n",
    "new_mean = 11641\n",
    "\n",
    "# H0 NULL hypothesis is average sales = 10345\n",
    "# H1 alternative is average sales != 10345 ( campaign affected the sales)\n",
    "\n",
    "# P value should be less than 5% to show that, its not random chance and the \n",
    "# campaign indeed have an effect on sales \n",
    "\n",
    "p1 = 1-norm.cdf(11641, mean, std)\n",
    "p_value = 2*p1\n",
    "\n",
    "print(f'P-Value: {p_value*100:.4f}%')\n",
    "\n",
    "if p_value <=0.05:\n",
    "    print(\"passes two tailed test\")\n",
    "else:\n",
    "    print(\"Failed two tailed test\")\n",
    "\n"
   ]
  },
  {
   "cell_type": "code",
   "execution_count": null,
   "metadata": {},
   "outputs": [],
   "source": []
  }
 ],
 "metadata": {
  "kernelspec": {
   "display_name": "venv",
   "language": "python",
   "name": "python3"
  },
  "language_info": {
   "codemirror_mode": {
    "name": "ipython",
    "version": 3
   },
   "file_extension": ".py",
   "mimetype": "text/x-python",
   "name": "python",
   "nbconvert_exporter": "python",
   "pygments_lexer": "ipython3",
   "version": "3.8.10"
  },
  "orig_nbformat": 4,
  "vscode": {
   "interpreter": {
    "hash": "643ce797ddba7af60514a7b3d7bbed7015dde014b0e037668c33e29908f2b7a1"
   }
  }
 },
 "nbformat": 4,
 "nbformat_minor": 2
}
