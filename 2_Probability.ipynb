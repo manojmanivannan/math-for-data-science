{
 "cells": [
  {
   "attachments": {},
   "cell_type": "markdown",
   "metadata": {},
   "source": [
    "## Union Probabilities\n",
    "\n",
    "$$\n",
    "P(A \\text{ AND } B) = P(A) \\text{ x } P(B)\n",
    "$$\n",
    "$$\n",
    "P(A \\text{ OR } B) = P(A) + P(B) - P(A \\text{ AND } B)\n",
    "$$\n",
    "$$\n",
    "P(A \\text{ OR } B) = P(A) + P(B) - P(A) \\text{ x } P(B)\n",
    "$$"
   ]
  },
  {
   "attachments": {},
   "cell_type": "markdown",
   "metadata": {},
   "source": [
    "## Conditional Probabilities and Bayes's Theorem\n",
    "\n",
    "expressed as $P(A \\text{ GIVEN } B) \\text{ or } P(A|B)$\n",
    "\n",
    "$$\n",
    "P(A|B) = \\frac {P(B|A)\\text{x}P(A)}{P(B)}\n",
    "$$"
   ]
  },
  {
   "attachments": {},
   "cell_type": "markdown",
   "metadata": {},
   "source": [
    "\\begin{split}\n",
    "P(Coffee|Caner) = 0.85\\\\\n",
    "P(Coffee) = 0.65\\\\\n",
    "P(Cancer) = 0.005\\\\\n",
    "\\end{split}\n",
    "\n",
    "what is the prob of someone haing canver given they are a coffee dinker ?\n",
    "\n",
    "$P(Cancer|Coffee)$ ??\n",
    "\n",
    "Using Baye's rule...\n",
    "\n",
    "$$\n",
    "P(Cancer|Coffee) = \\frac {P(Coffee|Cancer)*P(Coffee)}{P(Cancer)}\n",
    "$$\n",
    "\n",
    "$$\n",
    "P(Cancer|Coffee) = \\frac {0.85 * 0.005}{0.65} = 0.0065\n",
    "$$\n",
    "\n",
    "\n",
    "\n"
   ]
  },
  {
   "attachments": {},
   "cell_type": "markdown",
   "metadata": {},
   "source": [
    "## Binomial Distribution\n",
    "measures how likely *k* successes can happen out of *n* trials given *p* probability."
   ]
  },
  {
   "attachments": {},
   "cell_type": "markdown",
   "metadata": {},
   "source": [
    "Let’s say you are working on a new turbine jet engine and you ran 10 tests. The\n",
    "outcomes yielded eight successes and two failures:\n",
    "\n",
    "✓ ✓ ✓ ✓ ✓ ✘ ✓ ✘ ✓ ✓\n",
    "\n",
    "You were hoping to get a 90% success rate, but based on this data you conclude\n",
    "that your tests have failed with only 80% success. Each test is time-consuming and\n",
    "expensive, so you decide it is time to go back to the drawing board to reengineer the design.\n",
    "However, one of your engineers insists there should be more tests. “The only way we\n",
    "will know for sure is to run more tests,” she argues. “What if more tests yield 90% or greater success? After all, if you flip a coin 10 times and get 8 heads, it does not mean the coin is fixed at 80%.”"
   ]
  },
  {
   "attachments": {},
   "cell_type": "markdown",
   "metadata": {},
   "source": [
    "![Binomial Distribution](images/Probabilities_Binomial.png)\n",
    "\n",
    "Above, we see the probability of k successes for each bar out of 10 trials. This binomial distribution assumes a probability p of 90%, meaning there is a .90 (or 90%) chance for a success to occur. If this is true, that means there is a .1937 probability we would get 8 successes out of 10 trials. The probability of getting 1 success out of 10 trials is extremely unlikely, .000000008999, hence why the bar is not even visible. We can also calculate the probability of eight or fewer successes by adding up bars for eight or fewer successes. This would give us .2639 probability of eight or fewer successes."
   ]
  },
  {
   "cell_type": "code",
   "execution_count": 4,
   "metadata": {},
   "outputs": [
    {
     "name": "stdout",
     "output_type": "stream",
     "text": [
      "0 - 9.999999999999973e-11\n",
      "1 - 8.999999999999976e-09\n",
      "2 - 3.6449999999999933e-07\n",
      "3 - 8.747999999999988e-06\n",
      "4 - 0.00013778099999999974\n",
      "5 - 0.0014880347999999982\n",
      "6 - 0.011160260999999989\n",
      "7 - 0.05739562799999997\n",
      "8 - 0.1937102444999998\n",
      "9 - 0.38742048899999976\n",
      "10 - 0.34867844010000015\n"
     ]
    }
   ],
   "source": [
    "from scipy.stats import binom\n",
    "\n",
    "n = 10\n",
    "p = 0.9\n",
    "\n",
    "for k in range(n + 1):\n",
    "    probability = binom.pmf(k, n, p)\n",
    "    print(\"{0} - {1}\".format(k, probability))"
   ]
  },
  {
   "attachments": {},
   "cell_type": "markdown",
   "metadata": {},
   "source": [
    "## Beta Distribution\n",
    "The beta distribution allows us to see the likelihood of different underlying probabilities for an event to occur given alpha successes and beta failures."
   ]
  },
  {
   "attachments": {},
   "cell_type": "markdown",
   "metadata": {},
   "source": [
    "![Beta Distribution](images/Probabilities_BetaDistribution.png)\n",
    "\n",
    "The beta distribution is a type of probability distribution, which means the area under the entire curve is 1.0, or 100%. To find a probability, we need to find the area within a range. For example, if we want to evaluate the probability 8/10 successes would yield 90% or higher success rate, we need to find the area between 0.9 and 1.0, which is .225, as shaded"
   ]
  },
  {
   "attachments": {},
   "cell_type": "markdown",
   "metadata": {},
   "source": [
    "---"
   ]
  },
  {
   "attachments": {},
   "cell_type": "markdown",
   "metadata": {},
   "source": [
    "As we did with the binomial distribution, we can use SciPy to implement the beta distribution. Every continuous probability distribution has a cumulative density function (CDF), which calculates the area up to a given x-value. It is easy enough to use SciPy with its beta.cdf() function, and the only parameters we need to provide are the *x-value*, the number of successes *a*, and the number of failures\n",
    "*b*"
   ]
  },
  {
   "cell_type": "code",
   "execution_count": 6,
   "metadata": {},
   "outputs": [
    {
     "name": "stdout",
     "output_type": "stream",
     "text": [
      "0.7748409780000002\n"
     ]
    }
   ],
   "source": [
    "from scipy.stats import beta\n",
    "a = 8\n",
    "b = 2\n",
    "p = beta.cdf(.90, a, b)\n",
    "\n",
    "print(p)\n",
    "# So according to our calculation, \n",
    "# there is a 77.48% chance the underlying probability\n",
    "# of success is 90% or less"
   ]
  },
  {
   "cell_type": "code",
   "execution_count": 8,
   "metadata": {},
   "outputs": [
    {
     "name": "stdout",
     "output_type": "stream",
     "text": [
      "0.22515902199999982\n"
     ]
    }
   ],
   "source": [
    "# How do we calculate the probability of success being 90% or more\n",
    "p = 1.0 - beta.cdf(.90, a, b)\n",
    "print(p)"
   ]
  },
  {
   "attachments": {},
   "cell_type": "markdown",
   "metadata": {},
   "source": [
    "This means that out of 8/10 successful engine tests, there is only a 22.5% chance the underlying success rate is 90% or greater. But there is about a 77.5% chance it is less than 90%. The odds are not in our favor here that our tests were successful, but we could gamble on that 22.5% chance with more tests if we are feeling lucky.\n",
    "The beta distribution is a fascinating tool to measure the probability of an event\n",
    "occurring versus not occurring, based on a limited set of observations. It allows us to reason about probabilities of probabilities, and we can update it as we get new data.\n"
   ]
  }
 ],
 "metadata": {
  "kernelspec": {
   "display_name": "venv",
   "language": "python",
   "name": "python3"
  },
  "language_info": {
   "codemirror_mode": {
    "name": "ipython",
    "version": 3
   },
   "file_extension": ".py",
   "mimetype": "text/x-python",
   "name": "python",
   "nbconvert_exporter": "python",
   "pygments_lexer": "ipython3",
   "version": "3.8.10"
  },
  "orig_nbformat": 4,
  "vscode": {
   "interpreter": {
    "hash": "643ce797ddba7af60514a7b3d7bbed7015dde014b0e037668c33e29908f2b7a1"
   }
  }
 },
 "nbformat": 4,
 "nbformat_minor": 2
}
