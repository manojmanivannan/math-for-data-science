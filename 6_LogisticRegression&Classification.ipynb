{
 "cells": [
  {
   "attachments": {},
   "cell_type": "markdown",
   "metadata": {},
   "source": [
    "# Logistic Regression and Classification\n",
    "\n",
    "logistic regression is a type of regression that predicts a probability of an outcome given one or more independent variables. This in turn can be used for classification, which is predicting categories rather than real numbers as we did with linear regression.\n",
    "\n",
    "We are not always interested in representing variables as continuous, where they can represent an infinite number of real decimal values. There are situations where we would rather variables be discrete, or representative of whole numbers, integers, or booleans (1/0, true/false). Logistic regression is trained on an output variable that is discrete (a binary 1 or 0) or a categorical number (which is a whole number). It does output a continuous variable in the form of probability, but that can be converted into a discrete value with a threshold.\n",
    "\n",
    "**Understanding logistic Regression**\n",
    "\n",
    "Imagine there was a small industrial accident and you are trying to understand the\n",
    "impact of chemical exposure. You have 11 patients who were exposed for differing\n",
    "numbers of hours to this chemical. Some have shown symptoms (value of 1) and others have not shown symptoms.\n",
    "\n",
    "<img src=\"images/LogisticRegression_understanding.png\" height=\"300px\">\n",
    "\n",
    "Doing a cursory analysis on this sample, we can say that there is nearly 0% probability a patient exposed for fewer than four hours will show symptoms, but there is 100% probability for greater than four hours. Between these two groups, there is an immediate jump to showing symptoms at approximately four hours.\n",
    "\n",
    "Of course, nothing is ever this clear-cut in the real world. Let’s say you gathered more data, where the middle of the range has a mix of patients showing symptoms versus not showing symptoms\n",
    "\n",
    "<img src=\"images/LogisticRegression_understanding_1.png\" height=\"250px\">\n",
    "\n",
    "Because of this overlap of points in the middle, there is no distinct cutoff when\n",
    "patients show symptoms but rather a gradual transition from 0% probability to 100%\n",
    "probability (0 and 1). This example demonstrates how a logistic regression results in a curve indicating a probability of belonging to the true category (a patient showed symptoms) across an independent variable (hours of exposure).\n",
    "\n"
   ]
  },
  {
   "attachments": {},
   "cell_type": "markdown",
   "metadata": {},
   "source": [
    "#### Logistic Function\n",
    "\n",
    "The logistic function is an S-shaped curve (also known as a sigmoid curve) that, for a given set of input variables, produces an output variable between 0 and 1. Because the output variable is between 0 and 1 it can be used to represent a probability\n",
    "\n",
    "Probability y for one input variable x:\n",
    "$$ y = \\frac {1.0} {1.0 + e^{-(\\beta_0 + \\beta_1 x)}} $$\n",
    "\n",
    "The exponent  looks identical to $y = mx + b$ or $y = \\beta_0 + \\beta_1 x$.\n",
    "This linear function in the exponent is known as the log-odds function, but for now just know this whole logistic function produces this S-shaped curve we need to output a shifting probability across an x-value.\n"
   ]
  },
  {
   "cell_type": "code",
   "execution_count": null,
   "metadata": {},
   "outputs": [],
   "source": [
    "import math\n",
    "\n",
    "def predict_probability(x, b0, b1):\n",
    "    p = 1.0 / (1.0 + math.exp(-(b0 + b1 * x)))\n",
    "    return p"
   ]
  },
  {
   "cell_type": "code",
   "execution_count": 1,
   "metadata": {},
   "outputs": [
    {
     "name": "stdout",
     "output_type": "stream",
     "text": [
      "1.0/(1.0 + 16.8272567955368*exp(-0.62*x))\n"
     ]
    }
   ],
   "source": [
    "# Lets plot to see what it looks like and assumg \n",
    "# b0=-2.823 and \n",
    "# b1= 0.62\n",
    "\n",
    "from sympy import *\n",
    "\n",
    "b0, b1, x = symbols('b0 b1 x')\n",
    "\n",
    "p = 1.0 / (1.0 + exp(-(b0 + b1 * x)))\n",
    "\n",
    "p = p.subs(b0,-2.823).subs(b1, 0.62)\n",
    "print(p)"
   ]
  },
  {
   "cell_type": "code",
   "execution_count": 2,
   "metadata": {},
   "outputs": [
    {
     "data": {
      "image/png": "[encoded data removed]",
      "text/plain": [
       "<Figure size 640x480 with 1 Axes>"
      ]
     },
     "metadata": {},
     "output_type": "display_data"
    },
    {
     "data": {
      "text/plain": [
       "<sympy.plotting.plot.Plot at 0x27c9c022fa0>"
      ]
     },
     "execution_count": 2,
     "metadata": {},
     "output_type": "execute_result"
    }
   ],
   "source": [
    "plot(p)"
   ]
  },
  {
   "attachments": {},
   "cell_type": "markdown",
   "metadata": {},
   "source": [
    "We can also extend logistic regression to more than one input variable (x1, x2, ... xn).\n",
    "$$ y = \\frac {1.0} {1.0 + e^{-(\\beta_0 + \\beta_1 x_1 + \\beta_2 x_2 + ... + \\beta_n x_n)}} $$"
   ]
  },
  {
   "attachments": {},
   "cell_type": "markdown",
   "metadata": {},
   "source": [
    "### Fitting the logistic Curve\n",
    "\n",
    "The data can have any mix of decimal, integer, and binary variables, but the output variable must be binary (0 or 1). When we actually do prediction, the output variable will be between 0 and 1, resembling a probability.\n",
    "\n",
    "The data provides our input and output variable values, but we need to solve for the $β_0$ and $β_1$ coefficients to fit our logistic function. Instead of inizing **least squares**, we use **maximum likelihood estimation**, which, as the name suggests, maximizes the likelihood a given logistic curve would output the observed data."
   ]
  },
  {
   "cell_type": "code",
   "execution_count": 4,
   "metadata": {},
   "outputs": [
    {
     "name": "stdout",
     "output_type": "stream",
     "text": [
      "[0.69267212]\n",
      "[-3.17576395]\n"
     ]
    }
   ],
   "source": [
    "import pandas as pd\n",
    "from sklearn.linear_model import LogisticRegression\n",
    "\n",
    "# Load the data\n",
    "df = pd.read_csv('https://bit.ly/33ebs2R', delimiter=\",\")\n",
    "\n",
    "# Extract input variables (all rows, all columns but last column)\n",
    "X = df.values[:, :-1]\n",
    "\n",
    "# Extract output column (all rows, last column)\n",
    "Y = df.values[:, -1]\n",
    "\n",
    "# Perform logistic regression\n",
    "# Turn off penalty\n",
    "model = LogisticRegression(penalty=None)\n",
    "\n",
    "model.fit(X, Y)\n",
    "\n",
    "# print beta1\n",
    "print(model.coef_.flatten()) \n",
    "\n",
    "# print beta0\n",
    "print(model.intercept_.flatten()) "
   ]
  },
  {
   "attachments": {},
   "cell_type": "markdown",
   "metadata": {},
   "source": [
    "To make specific predictions, use the predict() and predict_prob() functions on\n",
    "the model object in SciPy, whether it is a LogisticRegression or any other type of\n",
    "classification model. The predict() function will predict a specific class (e.g., True 1.0 or False 1.0) while the predict_prob() will output probabilities for each class"
   ]
  },
  {
   "attachments": {},
   "cell_type": "markdown",
   "metadata": {},
   "source": [
    "### Using Maximum likelihood and Gradient Descent\n",
    "\n",
    "Given coefficients β0 = –3.17576395 and β1 = 0.69267212, below code shows how we\n",
    "calculate the joint likelihood for this data in Python."
   ]
  },
  {
   "cell_type": "code",
   "execution_count": 5,
   "metadata": {},
   "outputs": [
    {
     "name": "stdout",
     "output_type": "stream",
     "text": [
      "4.7911180221699105e-05\n"
     ]
    }
   ],
   "source": [
    "import math\n",
    "import pandas as pd\n",
    "\n",
    "patient_data = pd.read_csv('https://bit.ly/33ebs2R', delimiter=\",\").itertuples()\n",
    "b0 = -3.17576395\n",
    "b1 = 0.69267212\n",
    "\n",
    "def logistic_function(x):\n",
    "    p = 1.0 / (1.0 + math.exp(-(b0 + b1 * x)))\n",
    "    return p\n",
    "\n",
    "# Calculate the joint likelihood\n",
    "joint_likelihood = 1.0\n",
    "for p in patient_data:\n",
    "    if p.y == 1.0:\n",
    "        joint_likelihood *= logistic_function(p.x)\n",
    "    elif p.y == 0.0:\n",
    "        joint_likelihood *= (1.0 - logistic_function(p.x))\n",
    "\n",
    "print(joint_likelihood)"
   ]
  },
  {
   "attachments": {},
   "cell_type": "markdown",
   "metadata": {},
   "source": [
    "We can compress this `if` statement , mathematically it looks like this\n",
    "\n",
    "$$ \\text{joint likelihood} = \\prod_{i=1}^{n} \\left(\\frac {1.0} {1.0 + e^{-(\\beta_0 + \\beta_1 x_i)}}\\right)^{y_i} \\text{x}\\ \\left(\\frac {1.0} {1.0 + e^{-(\\beta_0 + \\beta_1 x_i)}}\\right)^{1.0-y_i} $$"
   ]
  },
  {
   "cell_type": "code",
   "execution_count": 11,
   "metadata": {},
   "outputs": [
    {
     "name": "stdout",
     "output_type": "stream",
     "text": [
      "1.0\n"
     ]
    }
   ],
   "source": [
    "joint_likelihood=1.0\n",
    "\n",
    "for p in patient_data:\n",
    "    joint_likelihood *= logistic_function(p.x) ** p.y * \\\n",
    "        (1.0 - logistic_function(p.x)) ** (1.0 - p.y)\n",
    "\n",
    "print(joint_likelihood)"
   ]
  },
  {
   "attachments": {},
   "cell_type": "markdown",
   "metadata": {},
   "source": [
    "WHAT 1.0 ??? WHY ?\n",
    "Note that computers can get overwhelmed multiplying several small decimals\n",
    "together, known as floating point underflow. There is a clever mathematical hack to get around this. You can take the `log()` of each decimal you are multiplying and instead add them together. and you can then call the `exp()` function to convert the total sum back to get the product"
   ]
  },
  {
   "cell_type": "code",
   "execution_count": 15,
   "metadata": {},
   "outputs": [
    {
     "name": "stdout",
     "output_type": "stream",
     "text": [
      "4.791118022169896e-05\n"
     ]
    }
   ],
   "source": [
    "patient_data = pd.read_csv('https://bit.ly/33ebs2R', delimiter=\",\").itertuples()\n",
    "b0 = -3.17576395\n",
    "b1 = 0.69267212\n",
    "\n",
    "# Calculate the joint likelihood\n",
    "joint_likelihood = 0.0\n",
    "\n",
    "for p in patient_data:\n",
    "    joint_likelihood += math.log(logistic_function(p.x) ** p.y * \\\n",
    "        (1.0 - logistic_function(p.x)) ** (1.0 - p.y))\n",
    "\n",
    "joint_likelihood = math.exp(joint_likelihood)\n",
    "print(joint_likelihood)"
   ]
  },
  {
   "attachments": {},
   "cell_type": "markdown",
   "metadata": {},
   "source": [
    "So let’s just allow SymPy to do the partial derivatives for us, for $β_0$ and $β_1$ respectively. We will then immediately compile and use them for gradient descent,"
   ]
  },
  {
   "cell_type": "code",
   "execution_count": 16,
   "metadata": {},
   "outputs": [
    {
     "name": "stdout",
     "output_type": "stream",
     "text": [
      "0.6926693075370813 -3.1757515504098213\n"
     ]
    }
   ],
   "source": [
    "# expressing the same in SymPy\n",
    "\n",
    "from sympy import *\n",
    "import pandas as pd\n",
    "points = list(pd.read_csv(\"https://tinyurl.com/y2cocoo7\").itertuples())\n",
    "b1, b0, i, n = symbols('b1 b0 i n')\n",
    "x, y = symbols('x y', cls=Function)\n",
    "\n",
    "joint_likelihood = Sum(log((1.0 / (1.0 + exp(-(b0 + b1 * x(i))))) ** y(i) \\\n",
    "* (1.0 - (1.0 / (1.0 + exp(-(b0 + b1 * x(i)))))) ** (1 - y(i))), (i, 0, n))\n",
    "\n",
    "# Partial derivative for m, with points substituted\n",
    "d_b1 = diff(joint_likelihood, b1) \\\n",
    "        .subs(n, len(points) - 1).doit() \\\n",
    "            .replace(x, lambda i: points[i].x) \\\n",
    "                .replace(y, lambda i: points[i].y)\n",
    "\n",
    "# Partial derivative for m, with points substituted\n",
    "d_b0 = diff(joint_likelihood, b0) \\\n",
    "        .subs(n, len(points) - 1).doit() \\\n",
    "            .replace(x, lambda i: points[i].x) \\\n",
    "                .replace(y, lambda i: points[i].y)\n",
    "\n",
    "# compile using lambdify for faster computation\n",
    "d_b1 = lambdify([b1, b0], d_b1)\n",
    "d_b0 = lambdify([b1, b0], d_b0)\n",
    "\n",
    "# Perform Gradient Descent\n",
    "b1 = 0.01\n",
    "b0 = 0.01\n",
    "L = .01\n",
    "\n",
    "for j in range(10_000):\n",
    "    b1 += d_b1(b1, b0) * L\n",
    "    b0 += d_b0(b1, b0) * L\n",
    "\n",
    "print(b1, b0)"
   ]
  },
  {
   "attachments": {},
   "cell_type": "markdown",
   "metadata": {},
   "source": [
    "### Multivariable Logistic Regression\n",
    "\n",
    "| SEX | AGE | PROMOTIONS | YEARS_EMPLOYED | DID_QUIT |\n",
    "|:---:|:---:|------------|----------------|----------|\n",
    "| 1   | 32  | 3          | 7              | 0        |\n",
    "| 1   | 34  | 2          | 5              | 0        |\n",
    "| 1   | 29  | 2          | 5              | 1        |\n",
    "| 0   | 42  | 4          | 10             | 0        |\n",
    "| 1   | 43  | 4          | 10             | 0        |\n",
    "\n",
    "$$ y = \\frac {1.0} {1.0 + e^{-(\\beta_0 + \\beta_1 x_1 + \\beta_2 x_2 + ... + \\beta_n x_n)}} $$\n",
    "\n",
    "\n",
    "We will create βcoefficients for each of the variables sex, age, promotions, and\n",
    "years_employed. The output variable did_quit is binary, and that is going to drive the logistic regression outcome we are predicting. Because we are dealing with multiple dimensions, it is going to be hard to visualize the curvy hyperplane that is our logistic curve. So we will steer clear from visualization"
   ]
  },
  {
   "cell_type": "code",
   "execution_count": 18,
   "metadata": {},
   "outputs": [
    {
     "name": "stderr",
     "output_type": "stream",
     "text": [
      "c:\\Users\\manoj\\Documents\\MANOJ\\Gitlab\\math-for-data-science\\venv\\lib\\site-packages\\sklearn\\linear_model\\_logistic.py:1173: FutureWarning: `penalty='none'`has been deprecated in 1.2 and will be removed in 1.4. To keep the past behaviour, set `penalty=None`.\n",
      "  warnings.warn(\n"
     ]
    },
    {
     "name": "stdout",
     "output_type": "stream",
     "text": [
      "COEFFICIENTS: [ 0.03213405  0.03682453 -2.50410028  0.9742266 ]\n",
      "INTERCEPT: [-2.73485302]\n",
      "WILL LEAVE: [[0.02918934 0.97081066]]\n"
     ]
    },
    {
     "name": "stderr",
     "output_type": "stream",
     "text": [
      "c:\\Users\\manoj\\Documents\\MANOJ\\Gitlab\\math-for-data-science\\venv\\lib\\site-packages\\sklearn\\base.py:409: UserWarning: X does not have valid feature names, but LogisticRegression was fitted with feature names\n",
      "  warnings.warn(\n",
      "c:\\Users\\manoj\\Documents\\MANOJ\\Gitlab\\math-for-data-science\\venv\\lib\\site-packages\\sklearn\\base.py:409: UserWarning: X does not have valid feature names, but LogisticRegression was fitted with feature names\n",
      "  warnings.warn(\n"
     ]
    }
   ],
   "source": [
    "import pandas as pd\n",
    "from sklearn.linear_model import LogisticRegression\n",
    "employee_data = pd.read_csv(\"https://tinyurl.com/y6r7qjrp\")\n",
    "\n",
    "# grab independent variable columns\n",
    "inputs = employee_data.iloc[:, :-1]\n",
    "\n",
    "# grab dependent \"did_quit\" variable column\n",
    "output = employee_data.iloc[:, -1]\n",
    "\n",
    "# build logistic regression\n",
    "fit = LogisticRegression(penalty='none').fit(inputs, output)\n",
    "\n",
    "# Print coefficients:\n",
    "print(\"COEFFICIENTS: {0}\".format(fit.coef_.flatten()))\n",
    "print(\"INTERCEPT: {0}\".format(fit.intercept_.flatten()))\n",
    "\n",
    "# Interact and test with new employee data\n",
    "def predict_employee_will_stay(sex, age, promotions, years_employed):\n",
    "    prediction = fit.predict([[sex, age, promotions, years_employed]])\n",
    "    probabilities = fit.predict_proba([[sex, age, promotions, years_employed]])\n",
    "    if prediction == [[1]]:\n",
    "        return \"WILL LEAVE: {0}\".format(probabilities)\n",
    "    else:\n",
    "        return \"WILL STAY: {0}\".format(probabilities)\n",
    "\n",
    "# Test a prediction\n",
    "n = input(\"Predict employee will stay or leave {sex},{age},{promotions},{years_employed}: \")\n",
    "(sex, age, promotions, years_employed) = n.split(\",\")\n",
    "print(predict_employee_will_stay(int(sex), int(age), int(promotions), int(years_employed)))"
   ]
  },
  {
   "attachments": {},
   "cell_type": "markdown",
   "metadata": {},
   "source": [
    "You will notice that the coefficients for sex, age, promotions, and years_employed\n",
    "are displayed in that order. By the weight of the coefficients, you can see that sex and age play very little role in the prediction (they both have a weight near 0). However, promotions and years_employed have significant weights of –2.504 and 0.97. "
   ]
  },
  {
   "attachments": {},
   "cell_type": "markdown",
   "metadata": {},
   "source": [
    "### Understanding the Log-Odds\n",
    "It has always been a interest to mathematicians to take a linear function and scale its output to fall between 0 and 1, and therefore be useful for predicting probability. The log-odds, also called the logit function, lends itself to logistic regression for this purpose.\n",
    "\n",
    "\n",
    "$$ y = \\frac {1.0} {1.0 + e^{-(\\beta_0 + \\beta_1 x)}} $$\n",
    "\n",
    "This linear function being raised to e is known as the log-odds function, which takes the logarithm of the odds for the event of interest. \n",
    "\n",
    "As an example, let’s use our logistic regression from earlier where Β0 = -3.17576395 and Β1 = 0.69267212. What is the probability of showing symptoms after six hours, where x = 6? \n",
    "\n",
    "$$ p = \\frac {1.0} {1.0 + e^{-(-3.1757 + 0.6926 (6))}} = 0.727216 $$\n",
    "\n",
    "$$ odds = \\frac {p} {1-p} $$\n",
    "$$ odds = \\frac {0.72716} {1-0.72716} $$\n",
    "\n",
    "So at six hours, a patient is 2.66517 times more likely to show symptoms than not\n",
    "show symptoms. When we wrap the odds function in a natural logarithm (a logarithm with base e), we call this the logit function. The output of this formula is what we call the log-odds, named…shockingly…because we take the logarithm of the odds:\n",
    "\n",
    "$$ logit = log \\left(\\frac {p} {1-p}\\right) $$\n",
    "$$ logit = log \\left(\\frac {0.72716} {1-0.72716}\\right) = 0.98026 $$\n",
    "\n",
    "Our log-odds at six hours is 0.9802687. What does this mean and why do we care?\n",
    "When we are in “log-odds land” it is easier to compare one set of odds against\n",
    "another. We treat anything greater than 0 as favoring odds an event will happen,\n",
    "whereas anything less than 0 is against an event. A log-odds of –1.05 is linearly the same distance from 0 as 1.05. In plain odds, though, the equivalents are 0.3499 and 2.857, respectively, which is not as interpretable. That is the convenience of log-odds."
   ]
  },
  {
   "attachments": {},
   "cell_type": "markdown",
   "metadata": {},
   "source": [
    "Recall I said the linear function in our logistic regression formula β0 + β1x is our log-odds function. Check this out:\n",
    "\n",
    "log‐odds = β0 + β1x\n",
    "\n",
    "log‐odds = − 3.17576395 + 0.69267212 6\n",
    "\n",
    "log‐odds = 0.98026877\n",
    "\n",
    "It’s the same value 0.98026877 as our previous calculation, the odds of our logistic regression at x = 6 and then taking the log() of it! So what is the link? What ties all this together? Given a probability from a logistic regression p and input variable x, it is this:\n",
    "\n",
    "$$ log \\left(\\frac {p} {1-p}\\right) = \\beta_0 + \\beta_1 x $$\n",
    "\n",
    "<img src=\"images/LogisticRegression_logodds.png\" height=\"250px\"></a>"
   ]
  },
  {
   "attachments": {},
   "cell_type": "markdown",
   "metadata": {},
   "source": [
    "From the figure when the log-odds is 0.0 on the line, then the probability of the logistic curve is at 0.5. This makes sense because when our odds are fair at 1.0, the probability is going to be 0.50 as shown in the logistic regression, and the log-odds are going to be 0 as shown by the line.\n",
    "\n",
    "Let’s first find the probabilities of symptoms for six hours and eight hours,\n",
    "respectively\n",
    "\n",
    "<img src=\"images/LogisticRegression_logodds_calc.png\">\n",
    "\n",
    "We get a value of approximately 3.996, meaning that our odds of showing symptoms increases by nearly a factor of four with an extra two hours of exposure:"
   ]
  },
  {
   "cell_type": "code",
   "execution_count": null,
   "metadata": {},
   "outputs": [],
   "source": []
  }
 ],
 "metadata": {
  "kernelspec": {
   "display_name": "venv",
   "language": "python",
   "name": "python3"
  },
  "language_info": {
   "codemirror_mode": {
    "name": "ipython",
    "version": 3
   },
   "file_extension": ".py",
   "mimetype": "text/x-python",
   "name": "python",
   "nbconvert_exporter": "python",
   "pygments_lexer": "ipython3",
   "version": "3.8.10"
  },
  "orig_nbformat": 4,
  "vscode": {
   "interpreter": {
    "hash": "643ce797ddba7af60514a7b3d7bbed7015dde014b0e037668c33e29908f2b7a1"
   }
  }
 },
 "nbformat": 4,
 "nbformat_minor": 2
}
