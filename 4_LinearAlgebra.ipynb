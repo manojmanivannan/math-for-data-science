{
 "cells": [
  {
   "cell_type": "markdown",
   "metadata": {},
   "source": [
    "## Linear Algebra\n",
    "linear algebra concerns itself with linear systems but represents them through vector spaces and matrices"
   ]
  },
  {
   "cell_type": "markdown",
   "metadata": {},
   "source": [
    "### Vector\n",
    "A vector is an arrow in space with a specific direction and length, often representing a piece of data.\n",
    "\n",
    " $$\\overrightarrow{v} = \\begin{bmatrix} x \\\\ y \\end{bmatrix}$$"
   ]
  },
  {
   "cell_type": "code",
   "execution_count": 1,
   "metadata": {},
   "outputs": [
    {
     "name": "stdout",
     "output_type": "stream",
     "text": [
      "[3 2]\n"
     ]
    }
   ],
   "source": [
    "import numpy as np\n",
    "\n",
    "v = np.array([3,2])\n",
    "print(v)"
   ]
  },
  {
   "cell_type": "markdown",
   "metadata": {},
   "source": [
    " $$\\overrightarrow{v} = \\begin{bmatrix} x \\\\ y \\\\ z \\end{bmatrix} = \\begin{bmatrix} 4 \\\\ 1 \\\\ 2 \\end{bmatrix}$$"
   ]
  },
  {
   "attachments": {},
   "cell_type": "markdown",
   "metadata": {},
   "source": [
    "### Adding and combining vectors"
   ]
  },
  {
   "attachments": {},
   "cell_type": "markdown",
   "metadata": {},
   "source": [
    " $$\\overrightarrow{v} = \\begin{bmatrix} 3 \\\\ 2 \\end{bmatrix} \\\\ \\overrightarrow{w} = \\begin{bmatrix} 2 \\\\ -1\\end{bmatrix}$$\n",
    "\n",
    " $$\\overrightarrow{v}+\\overrightarrow{w} = \\begin{bmatrix} 3+2 \\\\ 2-1\\end{bmatrix}=\\begin{bmatrix} 5 \\\\ 1\\end{bmatrix}$$"
   ]
  },
  {
   "cell_type": "code",
   "execution_count": 2,
   "metadata": {},
   "outputs": [
    {
     "name": "stdout",
     "output_type": "stream",
     "text": [
      "[5 1]\n"
     ]
    }
   ],
   "source": [
    "v = np.array([3,2])\n",
    "w = np.array([2,-1])\n",
    "\n",
    "print(v+w)"
   ]
  },
  {
   "attachments": {},
   "cell_type": "markdown",
   "metadata": {},
   "source": [
    "### Scaling Vectors"
   ]
  },
  {
   "attachments": {},
   "cell_type": "markdown",
   "metadata": {},
   "source": [
    "Scaling is growing or shrinking a vector’s length. You can grow/shrink a vector by multiplying or scaling it with a single value, known as a scalar\n",
    "\n",
    "![Vector Scaling](images/LinearAlgebra_VectorScaling.png)"
   ]
  },
  {
   "cell_type": "code",
   "execution_count": 3,
   "metadata": {},
   "outputs": [
    {
     "name": "stdout",
     "output_type": "stream",
     "text": [
      "[6. 2.]\n"
     ]
    }
   ],
   "source": [
    "v = np.array([3,1])\n",
    "# scale the vector\n",
    "scaled_v = 2.0 * v\n",
    "# display scaled vector\n",
    "print(scaled_v)"
   ]
  },
  {
   "attachments": {},
   "cell_type": "markdown",
   "metadata": {},
   "source": [
    "### Span and Linear Dependence\n",
    "$\\overrightarrow{v}$ and $\\overrightarrow{w}$ are fixed in direction, except for flipping with negative scalars, but we can use scaling to freely create any vector composed of $\\overrightarrow{v} + \\overrightarrow{w}$. This whole space of possible vectors is called span, and in most cases our span can create unlimited vectors off those two vectors, simply by scaling and summing them. When we have two vectors in two different directions, they are linearly independent and have this unlimited span.\n",
    "\n",
    "What happens when two vectors exist in the same direction, or exist on the same line? The combination of those vectors is also stuck on the same line, limiting our span to just that line. No matter how you scale it, the resulting sum vector is also stuck on that same line. This makes them linearly dependent\n",
    "\n",
    "Info:  Determinant to check for linear dependence"
   ]
  },
  {
   "attachments": {},
   "cell_type": "markdown",
   "metadata": {},
   "source": [
    "### Linear Transformations\n",
    "This concept of adding two vectors with fixed direction, but scaling them to get different combined vectors, is hugely important. This combined vector, except in cases of linear dependence, can point in any direction and have any length we choose. This sets up an intuition for linear transformations where we use a vector to transform another vector in a function-like manner."
   ]
  },
  {
   "attachments": {},
   "cell_type": "markdown",
   "metadata": {},
   "source": [
    "#### Basis Vectors\n",
    "two simple vectors $\\widehat{i}$ and $\\widehat{j}$ (“i-hat” and “j-hat”). These are known as basis vectors, which are used to describe transformations on other vectors. They typically have a length of 1 and point in perpendicular positive directions.\n",
    "\n",
    "![Basis Vectors](images/LinearAlgebra_BasisVectors.png)\n",
    "\n",
    "Our basis vector is expressed in a 2 × 2 matrix, where the first column is  $\\widehat{i}$ and the second column is  $\\widehat{j}$:\n",
    "\n",
    "\\begin{split}\n",
    "\\widehat{i} = \\begin{bmatrix} 1 \\\\ 0 \\end{bmatrix} \\\n",
    "\\widehat{j} = \\begin{bmatrix} 0 \\\\ 1 \\end{bmatrix}\n",
    "\\end{split}\n",
    "\n",
    "$$basis= \\begin{bmatrix} 1 & 0 \\\\ 0 & 1 \\end{bmatrix}$$\n",
    "\n",
    "A matrix is a collection of vectors (such as $\\widehat{i}$, $\\widehat{j}$) that can have multiple rows and columns and is a convenient way to package data. We can use $\\widehat{i}$ and $\\widehat{j}$ to create any vector we want by scaling and adding them.\n",
    "\n",
    "I want vector $\\overrightarrow{v}$ to land at [3, 2]. What happens to $\\overrightarrow{v}$ if we stretch $\\widehat{i}$ by a factor of 3 and $\\widehat{j}$ by a factor of 2? First we scale them individually as shown here:\n",
    "\n",
    "\\begin{split}\n",
    "3\\widehat{i} = 3\\begin{bmatrix} 1 \\\\ 0 \\end{bmatrix} = \\begin{bmatrix} 3 \\\\ 0 \\end{bmatrix} \\\\\n",
    "2\\widehat{j} = 2\\begin{bmatrix} 0 \\\\ 1 \\end{bmatrix} = \\begin{bmatrix} 0 \\\\ 2 \\end{bmatrix}\n",
    "\\end{split}\n",
    "\n",
    "If we stretched space in these two directions, what does this do to $\\overrightarrow{v}$ ? Well, it is going to stretch with $\\widehat{i}$ and $\\widehat{j}$. This is known as a linear transformation, where we transform a vector with stretching, squishing, sheering, or rotating by tracking basis vector movements\n",
    "\n",
    " $$\\overrightarrow{v}_{new} = \\begin{bmatrix} 3 \\\\ 0 \\end{bmatrix} + \\begin{bmatrix} 0 \\\\ 2 \\end{bmatrix} = \\begin{bmatrix} 3 \\\\ 2 \\end{bmatrix}$$\n",
    "\n",
    " ![Linear Tranformations](images/LinearAlgebra_Transformations.png)\n"
   ]
  },
  {
   "attachments": {},
   "cell_type": "markdown",
   "metadata": {},
   "source": [
    "### Matrix Vector Multiplication\n",
    "\n",
    "If you want true linear algebra enlightenment, think why creating vectors and transforming vectors are actually the same thing. It’s all a matter of relativity given your basis vectors being a starting point before and after a transformation. The formula to transform a vector $\\overrightarrow{v}$  given basis vectors $\\widehat{i}$ and $\\widehat{j}$ packaged as a\n",
    "matrix is:\n",
    "\n",
    "$$\\begin{bmatrix} x_{new} \\\\ y_{new} \\end{bmatrix} = \\begin{bmatrix} a & b \\\\ c & d \\end{bmatrix}\\begin{bmatrix} x \\\\ y \\end{bmatrix}$$\n",
    "$$\\begin{bmatrix} x_{new} \\\\ y_{new} \\end{bmatrix} = \\begin{bmatrix} ax + by \\\\ cx + dy \\end{bmatrix}$$\n",
    "\n",
    "$\\widehat{i}$ is the first column [a, c] and $\\widehat{j}$ is the column [b, d]. We package both of these basis vectors as a matrix, which again is a collection of vectors expressed as a grid of numbers in two or more dimensions. This transformation of a vector by applying basis vectors is known as matrix vector multiplication."
   ]
  },
  {
   "cell_type": "code",
   "execution_count": 4,
   "metadata": {},
   "outputs": [
    {
     "name": "stdout",
     "output_type": "stream",
     "text": [
      "[3 2]\n"
     ]
    }
   ],
   "source": [
    "# compose basis matrix with i-hat and j-hat\n",
    "basis = np.array(\n",
    "                    [[3, 0],\n",
    "                    [0, 2]]\n",
    "                )\n",
    "\n",
    "# declare vector v\n",
    "v = np.array([1,1])\n",
    "# create new vector\n",
    "# by transforming v with dot product\n",
    "new_v = basis.dot(v)\n",
    "print(new_v)"
   ]
  },
  {
   "attachments": {},
   "cell_type": "markdown",
   "metadata": {},
   "source": [
    "When thinking in terms of basis vectors, I prefer to break out the basis vectors and then compose them together into a matrix. Just note you will need to transpose, or swap the columns and rows. This is because NumPy’s array() function will do the opposite orientation we want, populating each vector as a row rather than a column."
   ]
  },
  {
   "cell_type": "code",
   "execution_count": 5,
   "metadata": {},
   "outputs": [
    {
     "name": "stdout",
     "output_type": "stream",
     "text": [
      "[3 2]\n"
     ]
    }
   ],
   "source": [
    "# Declare i-hat and j-hat\n",
    "i_hat = np.array([3, 0])\n",
    "j_hat = np.array([0, 2])\n",
    "\n",
    "# compose basis matrix using i-hat and j-hat\n",
    "# also need to transpose rows into columns\n",
    "basis = np.array([i_hat, j_hat]).transpose()\n",
    "# declare vector v\n",
    "v = np.array([1,1])\n",
    "# create new vector\n",
    "# by transforming v with dot product\n",
    "new_v = basis.dot(v)\n",
    "print(new_v)"
   ]
  },
  {
   "attachments": {},
   "cell_type": "markdown",
   "metadata": {},
   "source": [
    "Here is an example that jumps things up a notch. Let’s take vector $\\overrightarrow{v}$  of value [2, 1]. $\\widehat{i}$  and $\\widehat{j}$ start at [1, 0] and [0, 1], but then are transformed and land at [2, 3] and [2, -1]. What happens to $\\overrightarrow{v}$  ?"
   ]
  },
  {
   "cell_type": "code",
   "execution_count": 6,
   "metadata": {},
   "outputs": [
    {
     "name": "stdout",
     "output_type": "stream",
     "text": [
      "[6 5]\n"
     ]
    }
   ],
   "source": [
    "# Declare i-hat and j-hat\n",
    "i_hat = np.array([2, 3])\n",
    "j_hat = np.array([2, -1])\n",
    "# compose basis matrix using i-hat and j-hat\n",
    "# also need to transpose rows into columns\n",
    "basis = np.array([i_hat, j_hat]).transpose()\n",
    "# declare vector v 0\n",
    "v = np.array([2,1])\n",
    "# create new vector\n",
    "# by transforming v with dot product\n",
    "new_v = basis.dot(v)\n",
    "print(new_v)"
   ]
  },
  {
   "attachments": {},
   "cell_type": "markdown",
   "metadata": {},
   "source": [
    "A lot has happened here. Not only did we scale $\\widehat{i}$  and $\\widehat{j}$ and elongate vector $\\overrightarrow{v}$. We actually sheared, rotated, and flipped space, too. You know space was flipped when $\\widehat{i}$  and $\\widehat{j}$ change places in their clockwise orientation"
   ]
  },
  {
   "attachments": {},
   "cell_type": "markdown",
   "metadata": {},
   "source": [
    "### Matrix Multiplication\n",
    "\n",
    "Think of matrix multiplication as applying multiple transformations to a vector space. Each transformation is like a function, where we apply the innermost first and then apply each subsequent transformation outward.\n",
    "\n",
    "Here is how we apply a rotation and then a shear to any vector $\\overrightarrow{v}$ with value [x, y]:\n",
    "\n",
    "$$\\begin{bmatrix} 1 & 1 \\\\ 0 & 1 \\end{bmatrix} \\begin{bmatrix} 0 & -1 \\\\ 1 & 0 \\end{bmatrix} \\begin{bmatrix} x \\\\ y \\end{bmatrix}$$\n",
    "\n",
    "$$\\begin{bmatrix} a & b \\\\ c & d \\end{bmatrix} \\begin{bmatrix} e & f \\\\ g & h \\end{bmatrix} = \\begin{bmatrix} ae+bg & af+bh \\\\ ce+de & cf+dh \\end{bmatrix}\n"
   ]
  },
  {
   "cell_type": "code",
   "execution_count": 8,
   "metadata": {},
   "outputs": [
    {
     "name": "stdout",
     "output_type": "stream",
     "text": [
      "COMBINED MATRIX:\n",
      " [[ 1 -1]\n",
      " [ 1  0]]\n",
      "[-1  1]\n",
      "[-1  1]\n"
     ]
    }
   ],
   "source": [
    "# Transformation 1\n",
    "i_hat1 = np.array([0, 1])\n",
    "j_hat1 = np.array([-1, 0])\n",
    "transform1 = np.array([i_hat1, j_hat1]).transpose()\n",
    "# Transformation 2\n",
    "i_hat2 = np.array([1, 0])\n",
    "j_hat2 = np.array([1, 1])\n",
    "transform2 = np.array([i_hat2, j_hat2]).transpose()\n",
    "# Combine Transformations\n",
    "combined = transform2 @ transform1\n",
    "# Test\n",
    "print(\"COMBINED MATRIX:\\n {}\".format(combined))\n",
    "v = np.array([1, 2])\n",
    "print(combined.dot(v))\n",
    "\n",
    "# applying each transformation indicidually to vector v, you still get the same result\n",
    "\n",
    "rotated = transform1.dot(v)\n",
    "sheered = transform2.dot(rotated)\n",
    "print(sheered)"
   ]
  },
  {
   "cell_type": "code",
   "execution_count": 9,
   "metadata": {},
   "outputs": [
    {
     "name": "stdout",
     "output_type": "stream",
     "text": [
      "COMBINED MATRIX:\n",
      " [[ 0 -1]\n",
      " [ 1  1]]\n",
      "[-2  3]\n"
     ]
    }
   ],
   "source": [
    "# Non cummutative nature of matrix multiplication\n",
    "# Transformation 1\n",
    "i_hat1 = np.array([0, 1])\n",
    "j_hat1 = np.array([-1, 0])\n",
    "transform1 = np.array([i_hat1, j_hat1]).transpose()\n",
    "# Transformation 2\n",
    "i_hat2 = np.array([1, 0])\n",
    "j_hat2 = np.array([1, 1])\n",
    "transform2 = np.array([i_hat2, j_hat2]).transpose()\n",
    "# Combine Transformations, apply sheer first and then rotation\n",
    "combined = transform1 @ transform2\n",
    "# Test\n",
    "print(\"COMBINED MATRIX:\\n {}\".format(combined))\n",
    "v = np.array([1, 2])\n",
    "print(combined.dot(v))"
   ]
  },
  {
   "attachments": {},
   "cell_type": "markdown",
   "metadata": {},
   "source": [
    "### Determinants\n",
    "\n",
    "When we perform linear transformations, we sometimes “expand” or “squish” space and the degree this happens can be helpful. \n",
    "\n",
    "![Determinants](images/LinearAlgebra_Determinants.png)"
   ]
  },
  {
   "cell_type": "code",
   "execution_count": 10,
   "metadata": {},
   "outputs": [
    {
     "name": "stdout",
     "output_type": "stream",
     "text": [
      "6.0\n"
     ]
    }
   ],
   "source": [
    "\n",
    "i_hat = np.array([3, 0])\n",
    "j_hat = np.array([0, 2])\n",
    "basis = np.array([i_hat, j_hat]).transpose()\n",
    "determinant = np.linalg.det(basis)\n",
    "print(determinant)"
   ]
  },
  {
   "cell_type": "code",
   "execution_count": 11,
   "metadata": {},
   "outputs": [
    {
     "name": "stdout",
     "output_type": "stream",
     "text": [
      "1.0\n"
     ]
    }
   ],
   "source": [
    "# A simple shear does not change the determinant\n",
    "\n",
    "i_hat = np.array([1, 0])\n",
    "j_hat = np.array([1, 1])\n",
    "basis = np.array([i_hat, j_hat]).transpose()\n",
    "determinant = np.linalg.det(basis)\n",
    "print(determinant)"
   ]
  },
  {
   "attachments": {},
   "cell_type": "markdown",
   "metadata": {},
   "source": [
    "But scaling will increase or decrease the determinant, as that will increase/decrease the sampled area. "
   ]
  },
  {
   "cell_type": "code",
   "execution_count": 12,
   "metadata": {},
   "outputs": [
    {
     "name": "stdout",
     "output_type": "stream",
     "text": [
      "-5.000000000000001\n"
     ]
    }
   ],
   "source": [
    "i_hat = np.array([-2, 1])\n",
    "j_hat = np.array([1, 2])\n",
    "basis = np.array([i_hat, j_hat]).transpose()\n",
    "determinant = np.linalg.det(basis)\n",
    "print(determinant)"
   ]
  },
  {
   "cell_type": "code",
   "execution_count": 61,
   "metadata": {},
   "outputs": [
    {
     "data": {
      "image/png": "[encoded data removed]",
      "text/plain": [
       "<Figure size 500x300 with 1 Axes>"
      ]
     },
     "metadata": {},
     "output_type": "display_data"
    }
   ],
   "source": [
    "import matplotlib.pyplot as plt\n",
    "def plot_vectors(matrix,color):\n",
    "    i_col=matrix[:,0]\n",
    "    j_col=matrix[:,1]\n",
    "    plt.figure(figsize=(5,3))\n",
    "    plt.quiver(*origin, i_col, j_col, color=color, angles='xy', scale_units='xy', scale=1)\n",
    "    plt.annotate(f'i {i_col.tolist()}',xy=i_col,xytext=i_col*1.1)\n",
    "    plt.annotate(f'j {j_col.tolist()}',xy=j_col,xytext=j_col*1.1)\n",
    "    plt.grid()\n",
    "    plt.xlim(-4, 4)\n",
    "    plt.ylim(-2, 4)\n",
    "    plt.show()\n",
    "\n",
    "plot_vectors(matrix=basis,color=['r','b'])"
   ]
  },
  {
   "attachments": {},
   "cell_type": "markdown",
   "metadata": {},
   "source": [
    "### System of Equations and Inverse Matrices\n",
    "\n"
   ]
  },
  {
   "attachments": {},
   "cell_type": "markdown",
   "metadata": {},
   "source": [
    "4x + 2y + 4z = 44\n",
    "5x + 3y + 7z = 56\n",
    "9x + 3y + 6z = 72\n",
    "\n",
    "$$A=\\begin{bmatrix} 4 & 2 & 4 \\\\ 5 & 3 & 7 \\\\ 9 & 3 & 6 \\end{bmatrix} \\ B=\\begin{bmatrix} 44 \\\\ 56 \\\\72 \\end{bmatrix} \\ X=\\begin{bmatrix} x \\\\ y \\\\ z \\end{bmatrix}$$\n",
    "$$AX=B$$\n",
    "\n",
    "to Find X $$ A^{-1}AX=A^{-1}B \\\\ X = A^{-1}B$$\n",
    "\n"
   ]
  },
  {
   "cell_type": "code",
   "execution_count": 62,
   "metadata": {},
   "outputs": [
    {
     "name": "stdout",
     "output_type": "stream",
     "text": [
      "INVERSE: Matrix([[-1/2, 0, 1/3], [11/2, -2, -4/3], [-2, 1, 1/3]])\n",
      "IDENTITY: Matrix([[1, 0, 0], [0, 1, 0], [0, 0, 1]])\n"
     ]
    }
   ],
   "source": [
    "from sympy import *\n",
    "# 4x + 2y + 4z = 44\n",
    "# 5x + 3y + 7z = 56\n",
    "# 9x + 3y + 6z = 72\n",
    "A = Matrix([\n",
    "[4, 2, 4],\n",
    "[5, 3, 7],\n",
    "[9, 3, 6]\n",
    "])\n",
    "# dot product between A and its inverse\n",
    "# will produce identity function\n",
    "inverse = A.inv()\n",
    "identity = inverse * A\n",
    "# prints Matrix([[-1/2, 0, 1/3], [11/2, -2, -4/3], [-2, 1, 1/3]])\n",
    "print(\"INVERSE: {}\".format(inverse))\n",
    "# prints Matrix([[1, 0, 0], [0, 1, 0], [0, 0, 1]])\n",
    "print(\"IDENTITY: {}\".format(identity))"
   ]
  },
  {
   "cell_type": "code",
   "execution_count": 63,
   "metadata": {},
   "outputs": [
    {
     "name": "stdout",
     "output_type": "stream",
     "text": [
      "[ 2. 34. -8.]\n"
     ]
    }
   ],
   "source": [
    "# 4x + 2y + 4z = 44\n",
    "# 5x + 3y + 7z = 56\n",
    "# 9x + 3y + 6z = 72\n",
    "A = np.array([\n",
    "[4, 2, 4],\n",
    "[5, 3, 7],\n",
    "[9, 3, 6]\n",
    "])\n",
    "B = np.array([\n",
    "44,\n",
    "56,\n",
    "72\n",
    "])\n",
    "X = np.linalg.inv(A).dot(B)\n",
    "print(X)"
   ]
  },
  {
   "attachments": {},
   "cell_type": "markdown",
   "metadata": {},
   "source": [
    "### EigenVectors $\\nu$ and EigenValues $\\lambda$\n",
    "Matrix decomposition is breaking up a matrix into its basic components, much like factoring numbers (e.g., 10 can be factored to 2 × 5). Matrix decomposition is helpful for tasks like finding inverse matrices and calculating determinants, as well as linear regression. . For now, just know eigendecomposition is helpful for breaking up a matrix into components that are easier to work with in different machine learning tasks. In eigendecomposition, there are two components: the eigenvalues denoted by lambda $\\lambda$ and eigenvector by $\\nu$\n",
    "\n",
    "![EigenVectors and EigenValues](images/LinearAlgebra_EigenVectors.png)\n",
    "\n",
    "if we have a square matrix A, it the following eigenvalue equation\n",
    "\n",
    "$$A\\nu = \\lambda\\nu$$\n",
    "\n",
    "\n",
    "If A is the original matrix, it is composed of eigenvector vand eigenvalue λ. There is one eigenvector and eigenvalue for each dimension of the parent matrix, and not all matrices can be decomposed into an eigenvector and eigenvalue. Sometimes complex (imaginary) numbers will even result.\n"
   ]
  },
  {
   "cell_type": "code",
   "execution_count": 67,
   "metadata": {},
   "outputs": [
    {
     "name": "stdout",
     "output_type": "stream",
     "text": [
      "EIGENVALUES [-0.46410162  6.46410162]\n",
      "\n",
      "EIGENVECTORS\n",
      "[[-0.80689822 -0.34372377]\n",
      " [ 0.59069049 -0.9390708 ]]\n"
     ]
    }
   ],
   "source": [
    "A = np.array([\n",
    "    [1, 2],\n",
    "    [4, 5]\n",
    "    ])\n",
    "eigenvals, eigenvecs = np.linalg.eig(A)\n",
    "print(\"EIGENVALUES\",eigenvals)\n",
    "print(\"\\nEIGENVECTORS\",eigenvecs,sep=\"\\n\")"
   ]
  },
  {
   "attachments": {},
   "cell_type": "markdown",
   "metadata": {},
   "source": [
    "So how do we rebuild matrix A from the eigenvectors and eigenvalues? Recall this formula:\n",
    "    \n",
    "$$A\\nu = \\lambda\\nu$$\n",
    "We need to make a few tweaks to the formula to reconstruct A:\n",
    "$$A = Q\\Lambda Q^{-1}$$\n",
    "In this new formula, $Q$ is the eigenvectors, $\\Lambda$ is the eigenvalues in diagonal form, and $Q^{-1}$ is the inverse matrix of Q. Diagonal form means the vector is padded into\n",
    "a matrix of zeroes and occupies the diagonal line in a similar pattern to an identity matrix"
   ]
  },
  {
   "cell_type": "code",
   "execution_count": 68,
   "metadata": {},
   "outputs": [
    {
     "name": "stdout",
     "output_type": "stream",
     "text": [
      "EIGENVALUES\n",
      "[-0.46410162  6.46410162]\n",
      "\n",
      "EIGENVECTORS\n",
      "[[-0.80689822 -0.34372377]\n",
      " [ 0.59069049 -0.9390708 ]]\n",
      "\n",
      "REBUILD MATRIX\n",
      "[[1. 2.]\n",
      " [4. 5.]]\n"
     ]
    }
   ],
   "source": [
    "# Decomposing and recomposing a matrix\n",
    "\n",
    "A = np.array([\n",
    "        [1, 2],\n",
    "        [4, 5]\n",
    "        ])\n",
    "eigenvals, eigenvecs = np.linalg.eig(A)\n",
    "print(\"EIGENVALUES\")\n",
    "print(eigenvals)\n",
    "print(\"\\nEIGENVECTORS\")\n",
    "print(eigenvecs)\n",
    "\n",
    "print(\"\\nREBUILD MATRIX\")\n",
    "Q = eigenvecs\n",
    "R = np.linalg.inv(Q)\n",
    "L = np.diag(eigenvals)\n",
    "\n",
    "B = Q @ L @ R\n",
    "print(B)"
   ]
  },
  {
   "cell_type": "markdown",
   "metadata": {},
   "source": []
  }
 ],
 "metadata": {
  "kernelspec": {
   "display_name": "Python 3 (ipykernel)",
   "language": "python",
   "name": "python3"
  },
  "language_info": {
   "codemirror_mode": {
    "name": "ipython",
    "version": 3
   },
   "file_extension": ".py",
   "mimetype": "text/x-python",
   "name": "python",
   "nbconvert_exporter": "python",
   "pygments_lexer": "ipython3",
   "version": "3.8.10"
  },
  "vscode": {
   "interpreter": {
    "hash": "643ce797ddba7af60514a7b3d7bbed7015dde014b0e037668c33e29908f2b7a1"
   }
  }
 },
 "nbformat": 4,
 "nbformat_minor": 2
}
