{
 "cells": [
  {
   "cell_type": "markdown",
   "metadata": {},
   "source": [
    "## Linear Algebra\n",
    "linear algebra concerns itself with linear systems but represents them through vector spaces and matrices"
   ]
  },
  {
   "cell_type": "markdown",
   "metadata": {},
   "source": [
    "### Vector\n",
    "A vector is an arrow in space with a specific direction and length, often representing a piece of data.\n",
    "\n",
    " $$\\overrightarrow{v} = \\begin{bmatrix} x \\\\ y \\end{bmatrix}$$"
   ]
  },
  {
   "cell_type": "code",
   "execution_count": null,
   "metadata": {},
   "outputs": [
    {
     "name": "stdout",
     "output_type": "stream",
     "text": [
      "[3 2]\n"
     ]
    }
   ],
   "source": [
    "import numpy as np\n",
    "\n",
    "v = np.array([3,2])\n",
    "print(v)"
   ]
  },
  {
   "cell_type": "markdown",
   "metadata": {},
   "source": [
    " $$\\overrightarrow{v} = \\begin{bmatrix} x \\\\ y \\\\ z \\end{bmatrix} = \\begin{bmatrix} 4 \\\\ 1 \\\\ 2 \\end{bmatrix}$$"
   ]
  },
  {
   "attachments": {},
   "cell_type": "markdown",
   "metadata": {},
   "source": [
    "### Adding and combining vectors"
   ]
  },
  {
   "attachments": {},
   "cell_type": "markdown",
   "metadata": {},
   "source": [
    " $$\\overrightarrow{v} = \\begin{bmatrix} 3 \\\\ 2 \\end{bmatrix} \\\\ \\overrightarrow{w} = \\begin{bmatrix} 2 \\\\ -1\\end{bmatrix}$$\n",
    "\n",
    " $$\\overrightarrow{v}+\\overrightarrow{w} = \\begin{bmatrix} 3+2 \\\\ 2-1\\end{bmatrix}=\\begin{bmatrix} 5 \\\\ 1\\end{bmatrix}$$"
   ]
  },
  {
   "cell_type": "code",
   "execution_count": null,
   "metadata": {},
   "outputs": [
    {
     "name": "stdout",
     "output_type": "stream",
     "text": [
      "[5 1]\n"
     ]
    }
   ],
   "source": [
    "v = np.array([3,2])\n",
    "w = np.array([2,-1])\n",
    "\n",
    "print(v+w)"
   ]
  },
  {
   "attachments": {},
   "cell_type": "markdown",
   "metadata": {},
   "source": [
    "### Scaling Vectors"
   ]
  },
  {
   "attachments": {},
   "cell_type": "markdown",
   "metadata": {},
   "source": [
    "Scaling is growing or shrinking a vector’s length. You can grow/shrink a vector by multiplying or scaling it with a single value, known as a scalar\n",
    "\n",
    "![Vector Scaling](images/LinearAlgebra_VectorScaling.png)"
   ]
  },
  {
   "cell_type": "code",
   "execution_count": null,
   "metadata": {},
   "outputs": [
    {
     "name": "stdout",
     "output_type": "stream",
     "text": [
      "[6. 2.]\n"
     ]
    }
   ],
   "source": [
    "v = np.array([3,1])\n",
    "# scale the vector\n",
    "scaled_v = 2.0 * v\n",
    "# display scaled vector\n",
    "print(scaled_v)"
   ]
  },
  {
   "attachments": {},
   "cell_type": "markdown",
   "metadata": {},
   "source": [
    "### Span and Linear Dependence\n",
    "$\\overrightarrow{v}$ and $\\overrightarrow{w}$ are fixed in direction, except for flipping with negative scalars, but we can use scaling to freely create any vector composed of $\\overrightarrow{v} + \\overrightarrow{w}$. This whole space of possible vectors is called span, and in most cases our span can create unlimited vectors off those two vectors, simply by scaling and summing them. When we have two vectors in two different directions, they are linearly independent and have this unlimited span.\n",
    "\n",
    "What happens when two vectors exist in the same direction, or exist on the same line? The combination of those vectors is also stuck on the same line, limiting our span to just that line. No matter how you scale it, the resulting sum vector is also stuck on that same line. This makes them linearly dependent\n",
    "\n",
    "Info:  Determinant to check for linear dependence"
   ]
  },
  {
   "attachments": {},
   "cell_type": "markdown",
   "metadata": {},
   "source": [
    "### Linear Transformations\n",
    "This concept of adding two vectors with fixed direction, but scaling them to get different combined vectors, is hugely important. This combined vector, except in cases of linear dependence, can point in any direction and have any length we choose. This sets up an intuition for linear transformations where we use a vector to transform another vector in a function-like manner."
   ]
  },
  {
   "attachments": {},
   "cell_type": "markdown",
   "metadata": {},
   "source": [
    "#### Basis Vectors\n",
    "two simple vectors $\\widehat{i}$ and $\\widehat{j}$ (“i-hat” and “j-hat”). These are known as basis vectors, which are used to describe transformations on other vectors. They typically have a length of 1 and point in perpendicular positive directions.\n",
    "\n",
    "![Basis Vectors](images/LinearAlgebra_BasisVectors.png)\n",
    "\n",
    "Our basis vector is expressed in a 2 × 2 matrix, where the first column is  $\\widehat{i}$ and the second column is  $\\widehat{j}$:\n",
    "\n",
    "\\begin{split}\n",
    "\\widehat{i} = \\begin{bmatrix} 1 \\\\ 0 \\end{bmatrix} \\\n",
    "\\widehat{j} = \\begin{bmatrix} 0 \\\\ 1 \\end{bmatrix}\n",
    "\\end{split}\n",
    "\n",
    "$$basis= \\begin{bmatrix} 1 & 0 \\\\ 0 & 1 \\end{bmatrix}$$\n",
    "\n",
    "A matrix is a collection of vectors (such as $\\widehat{i}$, $\\widehat{j}$) that can have multiple rows and columns and is a convenient way to package data. We can use $\\widehat{i}$ and $\\widehat{j}$ to create any vector we want by scaling and adding them.\n",
    "\n",
    "I want vector $\\overrightarrow{v}$ to land at [3, 2]. What happens to $\\overrightarrow{v}$ if we stretch $\\widehat{i}$ by a factor of 3 and $\\widehat{j}$ by a factor of 2? First we scale them individually as shown here:\n",
    "\n",
    "\\begin{split}\n",
    "3\\widehat{i} = 3\\begin{bmatrix} 1 \\\\ 0 \\end{bmatrix} = \\begin{bmatrix} 3 \\\\ 0 \\end{bmatrix} \\\\\n",
    "2\\widehat{j} = 2\\begin{bmatrix} 0 \\\\ 1 \\end{bmatrix} = \\begin{bmatrix} 0 \\\\ 2 \\end{bmatrix}\n",
    "\\end{split}\n",
    "\n",
    "If we stretched space in these two directions, what does this do to $\\overrightarrow{v}$ ? Well, it is going to stretch with $\\widehat{i}$ and $\\widehat{j}$. This is known as a linear transformation, where we transform a vector with stretching, squishing, sheering, or rotating by tracking basis vector movements\n",
    "\n",
    " $$\\overrightarrow{v}_{new} = \\begin{bmatrix} 3 \\\\ 0 \\end{bmatrix} + \\begin{bmatrix} 0 \\\\ 2 \\end{bmatrix} = \\begin{bmatrix} 3 \\\\ 2 \\end{bmatrix}$$\n",
    "\n",
    " ![Linear Tranformations](images/LinearAlgebra_Transformations.png)\n"
   ]
  },
  {
   "attachments": {},
   "cell_type": "markdown",
   "metadata": {},
   "source": [
    "### Matrix Vector Multiplication\n",
    "\n",
    "If you want true linear algebra enlightenment, think why creating vectors and transforming vectors are actually the same thing. It’s all a matter of relativity given your basis vectors being a starting point before and after a transformation. The formula to transform a vector $\\overrightarrow{v}$  given basis vectors $\\widehat{i}$ and $\\widehat{j}$ packaged as a\n",
    "matrix is:\n",
    "\n",
    "$$\\begin{bmatrix} x_{new} \\\\ y_{new} \\end{bmatrix} = \\begin{bmatrix} a & b \\\\ c & d \\end{bmatrix}\\begin{bmatrix} x \\\\ y \\end{bmatrix}$$\n",
    "$$\\begin{bmatrix} x_{new} \\\\ y_{new} \\end{bmatrix} = \\begin{bmatrix} ax + by \\\\ cx + dy \\end{bmatrix}$$\n",
    "\n",
    "$\\widehat{i}$ is the first column [a, c] and $\\widehat{j}$ is the column [b, d]. We package both of these basis vectors as a matrix, which again is a collection of vectors expressed as a grid of numbers in two or more dimensions. This transformation of a vector by applying basis vectors is known as matrix vector multiplication."
   ]
  },
  {
   "cell_type": "code",
   "execution_count": null,
   "metadata": {},
   "outputs": [],
   "source": [
    "# compose basis matrix with i-hat and j-hat\n",
    "basis = np.array(\n",
    "                    [[3, 0],\n",
    "                    [0, 2]]\n",
    "                )\n",
    "\n",
    "# declare vector v\n",
    "v = np.array([1,1])\n",
    "# create new vector\n",
    "# by transforming v with dot product\n",
    "new_v = basis.dot(v)\n",
    "print(new_v)"
   ]
  },
  {
   "cell_type": "code",
   "execution_count": null,
   "metadata": {},
   "outputs": [],
   "source": []
  },
  {
   "cell_type": "markdown",
   "metadata": {},
   "source": []
  }
 ],
 "metadata": {
  "kernelspec": {
   "display_name": "Python 3 (ipykernel)",
   "language": "python",
   "name": "python3"
  },
  "language_info": {
   "codemirror_mode": {
    "name": "ipython",
    "version": 3
   },
   "file_extension": ".py",
   "mimetype": "text/x-python",
   "name": "python",
   "nbconvert_exporter": "python",
   "pygments_lexer": "ipython3",
   "version": "3.8.10 (tags/v3.8.10:3d8993a, May  3 2021, 11:48:03) [MSC v.1928 64 bit (AMD64)]"
  },
  "vscode": {
   "interpreter": {
    "hash": "643ce797ddba7af60514a7b3d7bbed7015dde014b0e037668c33e29908f2b7a1"
   }
  }
 },
 "nbformat": 4,
 "nbformat_minor": 2
}
